{
  "nbformat": 4,
  "nbformat_minor": 0,
  "metadata": {
    "colab": {
      "provenance": [],
      "authorship_tag": "ABX9TyPDt0F83w8+cKKnXOvDHm/2",
      "include_colab_link": true
    },
    "kernelspec": {
      "name": "python3",
      "display_name": "Python 3"
    },
    "language_info": {
      "name": "python"
    }
  },
  "cells": [
    {
      "cell_type": "markdown",
      "metadata": {
        "id": "view-in-github",
        "colab_type": "text"
      },
      "source": [
        "<a href=\"https://colab.research.google.com/github/BKnightHD/MS-Data-Science/blob/main/Insertion_sort_practice.ipynb\" target=\"_parent\"><img src=\"https://colab.research.google.com/assets/colab-badge.svg\" alt=\"Open In Colab\"/></a>"
      ]
    },
    {
      "cell_type": "code",
      "source": [
        "import random\n",
        "random.seed(2)\n",
        "\n",
        "arr = [10, 20, 30, 40, 50]\n",
        "\n",
        "for i in range(len(arr)):\n",
        "  print(arr[i])\n",
        "\n",
        "###########\n",
        "\n",
        "lst = ['jones', 'adam', 'brandon', 'alex', 'sarah', 'nick']\n",
        "lst.sort()\n",
        "for name in lst:\n",
        "  print(name.title())\n",
        "\n",
        "\n",
        "random_list = [random.randint(1, 100) for number in range(10)]\n",
        "\n",
        "print(\", \".join(map(str, random_list)))\n",
        "\n",
        "for something in range(15):\n",
        "  random.randint(1, 100)\n",
        "  print(something)"
      ],
      "metadata": {
        "id": "UeCTp8X60rFY",
        "outputId": "cf160367-d4f3-49d0-cc0a-503a03ed3260",
        "colab": {
          "base_uri": "https://localhost:8080/"
        }
      },
      "execution_count": null,
      "outputs": [
        {
          "output_type": "stream",
          "name": "stdout",
          "text": [
            "10\n",
            "20\n",
            "30\n",
            "40\n",
            "50\n",
            "Adam\n",
            "Alex\n",
            "Brandon\n",
            "Jones\n",
            "Nick\n",
            "Sarah\n",
            "8, 12, 11, 47, 22, 95, 86, 40, 33, 78\n",
            "0\n",
            "1\n",
            "2\n",
            "3\n",
            "4\n",
            "5\n",
            "6\n",
            "7\n",
            "8\n",
            "9\n",
            "10\n",
            "11\n",
            "12\n",
            "13\n",
            "14\n"
          ]
        }
      ]
    },
    {
      "cell_type": "code",
      "source": [
        "# get random list of numbers\n",
        "import random\n",
        "random.seed(1)\n",
        "\n",
        "\n",
        "# print random list to prove it's not in order\n",
        "def insertionSort(arr):\n",
        "  \"\"\"Insertion sort algorithm\"\"\"\n",
        "  random_list = [random.randint(1, 10) for value in range(5)]\n",
        "  print(\"Here is the list in it's original order: \" + \" \".join(map(str, random_list)))\n",
        "\n",
        "  n = len(random_list) # setting n equal to the length of the list\n",
        "  if n <= 1:\n",
        "    return # If the array has 0 or 1 element, it is already sorted by default, so return\n",
        "\n",
        "  for value in range(1, n): # Try to understand this part\n",
        "    key = arr[value]\n",
        "    j = value -1\n",
        "    while j >= 0 and key < arr[j]:\n",
        "      arr\n",
        "\n",
        "  print(\"Here is the list sorted\")\n",
        "insertionSort(arr)"
      ],
      "metadata": {
        "colab": {
          "base_uri": "https://localhost:8080/"
        },
        "id": "y3npRuTSuybu",
        "outputId": "926c821f-3e73-4281-8a14-4f2957a4da65"
      },
      "execution_count": null,
      "outputs": [
        {
          "output_type": "stream",
          "name": "stdout",
          "text": [
            "Here is the list in it's original order: 3 10 2 5 2\n"
          ]
        }
      ]
    },
    {
      "cell_type": "code",
      "execution_count": 42,
      "metadata": {
        "colab": {
          "base_uri": "https://localhost:8080/"
        },
        "id": "weD4ErAMo6vj",
        "outputId": "5b23cdc2-a265-4dd1-b625-6a7de6572aa5"
      },
      "outputs": [
        {
          "output_type": "stream",
          "name": "stdout",
          "text": [
            "[5, 6, 11, 12, 13]\n"
          ]
        }
      ],
      "source": [
        "def insertionSort(arr):\n",
        "\tn = len(arr) # Get the length of the array\n",
        "\n",
        "\tif n <= 1:\n",
        "\t\treturn # If the array has 0 or 1 element, it is already sorted, so return\n",
        "\n",
        "\tfor i in range(1, n): # Iterate over the array starting from the second element\n",
        "\t\tkey = arr[i] # Store the current element as the key to be inserted in the right position\n",
        "\t\tj = i-1\n",
        "\t\twhile j >= 0 and key < arr[j]: # Move elements greater than key one position ahead\n",
        "\t\t\tarr[j+1] = arr[j] # Shift elements to the right\n",
        "\t\t\tj -= 1\n",
        "\t\tarr[j+1] = key # Insert the key in the correct position\n",
        "\n",
        "# Sorting the array [12, 11, 13, 5, 6] using insertionSort\n",
        "arr = [12, 11, 13, 5, 6]\n",
        "insertionSort(arr)\n",
        "print(arr)"
      ]
    },
    {
      "cell_type": "markdown",
      "source": [
        "# Random array of 6 numbers (Personal Try)"
      ],
      "metadata": {
        "id": "HeSmL-fTo79f"
      }
    },
    {
      "cell_type": "code",
      "source": [
        "def random_int_function():\n",
        "    \"\"\"Function to create random number\"\"\"\n",
        "    value = random.randint(1,100)\n",
        "    return value\n",
        "\n",
        "def random_append_function(function_arr):\n",
        "  \"\"\"Function to add 6 random numbers to array\"\"\"\n",
        "\n",
        "  i = 0\n",
        "  x = random_int_function()\n",
        "  for j in arr:\n",
        "    while i < 6:\n",
        "      function_arr.append(x)\n",
        "      i += 1\n",
        "\n",
        "import random\n",
        "\n",
        "arr = [random_int_function()]\n",
        "random_append_function(arr)\n",
        "\n",
        "print(arr)"
      ],
      "metadata": {
        "id": "YNZ_7OLUqLeM",
        "colab": {
          "base_uri": "https://localhost:8080/"
        },
        "outputId": "3f906193-d9db-481a-9b24-356e9359cfba"
      },
      "execution_count": 15,
      "outputs": [
        {
          "output_type": "stream",
          "name": "stdout",
          "text": [
            "[30, 25, 25, 25, 25, 25, 25]\n"
          ]
        }
      ]
    },
    {
      "cell_type": "markdown",
      "source": [
        "# Claude implementation"
      ],
      "metadata": {
        "id": "Nf1CZBlvo_Wv"
      }
    },
    {
      "cell_type": "code",
      "source": [
        "import random\n",
        "\n",
        "def random_int_function():\n",
        "    \"\"\"Function to create random number\"\"\"\n",
        "    return random.randint(1, 100)\n",
        "\n",
        "def random_append_function(function_arr):\n",
        "    \"\"\"Function to add 6 unique random numbers to array\"\"\"\n",
        "    while len(function_arr) < 7:  # We want 7 total elements (1 initial + 6 new)\n",
        "        x = random_int_function()\n",
        "        if x not in function_arr:\n",
        "            function_arr.append(x)\n",
        "\n",
        "arr = [random_int_function()]\n",
        "random_append_function(arr)\n",
        "\n",
        "print(arr)"
      ],
      "metadata": {
        "colab": {
          "base_uri": "https://localhost:8080/"
        },
        "id": "q9HYs_Mvk779",
        "outputId": "b8449447-e164-4baa-8735-1990a89b1212"
      },
      "execution_count": 14,
      "outputs": [
        {
          "output_type": "stream",
          "name": "stdout",
          "text": [
            "[75, 9, 78, 2, 61, 34, 71]\n"
          ]
        }
      ]
    },
    {
      "cell_type": "code",
      "source": [
        "import random\n",
        "random.seed(50)\n",
        "\n",
        "def random_int_function():\n",
        "    return random.randint(1,100)\n",
        "\n",
        "def random_append_function(function_arr):\n",
        "  while len(function_arr) < 6:\n",
        "    x = random_int_function()\n",
        "    if x not in function_arr:\n",
        "      function_arr.append(x)\n",
        "\n",
        "# insertion sort\n",
        "def insertionSort(array):\n",
        "  n = len(array)\n",
        "\n",
        "  if n <= 1:\n",
        "    return\n",
        "\n",
        "  for i in range(1, n):\n",
        "    key = array[i]\n",
        "    j = i - 1\n",
        "    while j >= 0 and key < array[j]:\n",
        "      array[j + 1] = array[j]\n",
        "      j -= 1\n",
        "    array[j + 1] = key\n",
        "\n",
        "arr = []\n",
        "random_append_function(arr)\n",
        "\n",
        "print(\"Here is a list of 6 random values: \" + \", \".join(map(str, arr)))\n",
        "\n",
        "insertionSort(arr)\n",
        "print(\"Here is the list sorted: \" + \", \".join(map(str, arr)))"
      ],
      "metadata": {
        "colab": {
          "base_uri": "https://localhost:8080/"
        },
        "id": "nCvGucnmooGV",
        "outputId": "7cb2d97f-aa12-4732-a784-d19e39caa346"
      },
      "execution_count": 52,
      "outputs": [
        {
          "output_type": "stream",
          "name": "stdout",
          "text": [
            "Here is a list of 6 random values: 64, 35, 47, 82, 32, 89\n",
            "Here is the list sorted: 32, 35, 47, 64, 82, 89\n"
          ]
        }
      ]
    },
    {
      "cell_type": "markdown",
      "source": [
        "Insertion sort from memory"
      ],
      "metadata": {
        "id": "LQF1i3tsrbdx"
      }
    },
    {
      "cell_type": "code",
      "source": [
        "def insertionSort(arr):\n",
        "  n = len(arr)\n",
        "  if n == 0 or n == 1:\n",
        "    return\n",
        "\n",
        "  for i in range(1, n):  # remember range(1, n)\n",
        "    key = arr[i] # setting pointer\n",
        "    j = i - 1\n",
        "    while j >= 0 and key < arr[j]: # if our key is less value to the left...\n",
        "  ##  my code\n",
        "  ##  arr[j] = arr[j + 1]\n",
        "  ##  key = arr[i]\n",
        "  ##  j -= 1\n",
        "  ##  arr[i] = arr[j]\n",
        "      arr[j + 1] = arr[j]\n",
        "      j -= 1\n",
        "    arr[j + 1] = key # j + 1 is equal to the previous key\n",
        "\n",
        "lst = [93, 55, 38, 49, 63, 56, 11, 82, 67, 23, 8, 9, 2]\n",
        "print(lst)\n",
        "\n",
        "insertionSort(lst)\n",
        "print(lst)"
      ],
      "metadata": {
        "colab": {
          "base_uri": "https://localhost:8080/"
        },
        "id": "5Mz9zXsBqBAT",
        "outputId": "4df5e138-22b8-4161-a0b1-5968d92efc24"
      },
      "execution_count": 57,
      "outputs": [
        {
          "output_type": "stream",
          "name": "stdout",
          "text": [
            "[93, 55, 38, 49, 63, 56, 11, 82, 67, 23, 8, 9, 2]\n",
            "[2, 8, 9, 11, 23, 38, 49, 55, 56, 63, 67, 82, 93]\n"
          ]
        }
      ]
    },
    {
      "cell_type": "markdown",
      "source": [
        "# Second Try"
      ],
      "metadata": {
        "id": "KEy-_bBb4Xaf"
      }
    },
    {
      "cell_type": "code",
      "source": [
        "def insertionSort_function(function_list):\n",
        "  n = len(function_list)\n",
        "  if n <= 1:\n",
        "    return function_list\n",
        "\n",
        "  for i in range(1, n):\n",
        "    key = function_list[i] # holder variable..holds value of number in position i\n",
        "    j = i - 1 # setter variable...sets value of number in front of number in position i\n",
        "    while j >= 0 and key < function_list[j]:\n",
        "      function_list[j + 1] = function_list[j] # setting function...setting value in position i (j + 1) equal value in position j (value in front of i)\n",
        "      j -= 1 # moves to next number in the list to the left\n",
        "    function_list[j + 1] = key # setting final value to the holder variable\n",
        "\n",
        "lst = [93, 55, 38, 49, 63, 56, 11, 82, 67, 23, 8, 9, 2]\n",
        "print(lst)\n",
        "\n",
        "insertionSort_function(lst)\n",
        "print(lst)"
      ],
      "metadata": {
        "colab": {
          "base_uri": "https://localhost:8080/"
        },
        "id": "5mm57oqhzWqw",
        "outputId": "579e3ca6-282b-44e1-82c0-c5b6036ab834"
      },
      "execution_count": 63,
      "outputs": [
        {
          "output_type": "stream",
          "name": "stdout",
          "text": [
            "[93, 55, 38, 49, 63, 56, 11, 82, 67, 23, 8, 9, 2]\n",
            "[2, 8, 9, 11, 23, 38, 49, 55, 56, 63, 67, 82, 93]\n"
          ]
        }
      ]
    },
    {
      "cell_type": "markdown",
      "source": [
        "# Third Try"
      ],
      "metadata": {
        "id": "sP_Lu0UX-_wL"
      }
    },
    {
      "cell_type": "code",
      "source": [
        "import random\n",
        "\n",
        "def random_array(random_list):\n",
        "  while len(random_list) < 6:\n",
        "    element = random.randint(1, 100)\n",
        "    if element not in random_list:\n",
        "      random_list.append(element)\n",
        "\n",
        "def insertion(function_list):\n",
        "  n = len(lst)\n",
        "  if n <= 1:\n",
        "    print(\"List is already sorted\")\n",
        "    return\n",
        "  for i in range(1, n):\n",
        "    key = function_list[i]\n",
        "    j = i - 1\n",
        "    while j >= 0 and key < function_list[j]:\n",
        "      function_list[j + 1] = function_list[j]\n",
        "      j -= 1\n",
        "    function_list[j+ 1] = key\n",
        "\n",
        "lst = []\n",
        "random_array(lst)\n",
        "print(\"Original list: \" + \" \".join(map(str, lst)))\n",
        "insertion(lst)\n",
        "print(\"Sorted list: \" + \" \".join(map(str, lst)))"
      ],
      "metadata": {
        "colab": {
          "base_uri": "https://localhost:8080/"
        },
        "id": "1Kk-zONI4qR1",
        "outputId": "b5fc9266-e1df-4dd7-9f9f-7d17a7af8255"
      },
      "execution_count": 80,
      "outputs": [
        {
          "output_type": "stream",
          "name": "stdout",
          "text": [
            "Original list: 48 98 67 20 1 46\n",
            "Sorted list: 1 20 46 48 67 98\n"
          ]
        }
      ]
    },
    {
      "cell_type": "code",
      "source": [],
      "metadata": {
        "id": "Vp0mCPhb_xOo"
      },
      "execution_count": null,
      "outputs": []
    }
  ]
}