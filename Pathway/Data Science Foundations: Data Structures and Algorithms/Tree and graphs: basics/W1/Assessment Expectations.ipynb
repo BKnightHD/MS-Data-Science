{
 "cells": [
  {
   "cell_type": "markdown",
   "id": "40f2adbe",
   "metadata": {},
   "source": [
    "Assessment Expectations\n",
    "\n",
    "Peer Review Assessments\n",
    "\n",
    "Peer reviews are a critical part of this course. As you work on these assignments, please keep the following expectations and guidelines in mind: \n",
    "\n",
    "    All peer review assignments are due 3 days before the end of the session. This deadline ensures there is enough time for your submissions to accrue all required reviews. Keep this in mind as you work through the course. \n",
    "\n",
    "    Some peer review assignments will require 1-3 reviews before you receive a grade. Please note if you do not receive all required reviews before the end of the session, your course facilitator will review your work and provide a grade. \n",
    "\n",
    "    These assignments are designed to provide you an opportunity for professional practice. Think of your peers as your colleagues and craft your responses to communicate your work in a way that is clear and easy to understand. \n",
    "\n",
    "    When reviewing your peers' work, practice reviewing the way you would for colleagues in your professional setting. \n",
    "\n",
    "    Some courses in the program have chosen to allow reviewers to remain anonymous. However, in the spirit of thinking of your peers as colleagues, some courses do allow learners to see who reviewed their work. Please refer to the assignment details or ask your Course Facilitator if you have questions.\n",
    "\n",
    "    Finally, you are responsible for reviewing your peers' work thoroughly. This includes continuing to interact with course materials and building your abilities to make sense of your peers' submissions, code, and visualizations throughout the program.\n",
    "\n",
    "Auto-graded Assessments\n",
    "\n",
    "As you complete any auto-graded assessment, please consider the following: \n",
    "\n",
    "    Some assessments may include a set of instructors with a list of resources you are and aren't to use. While these assessments may not be proctored, please consider adhering to this list of resources as the assessment was designed with the list in mind. \n",
    "\n",
    "    Most auto-graded assessments will allow for multiple attempts. Between attempts, it is recommend you review feedback provided for correct and incorrect responses and relevant course materials before starting your next attempt. \n",
    "\n",
    "    Some programming assignments will contain hidden test cases that are graded. If you do not receive full credit for your submission, please review your assignment summary for the passed and failed tests so you can further optimize your solutions. \n",
    "\n",
    "Assessments and Academic Honesty\n",
    "\n",
    "As you complete assessments, you are expected to perform to the highest standards of academic honesty. Please keep the following in mind: \n",
    "\n",
    "    Copying the provided rubrics to use as your own work is considered plagiarism.\n",
    "\n",
    "    Copying your peers work that you have reviewed in peer review assignments is considered plagiarism.\n",
    "\n",
    "    Using generative AI services, such as ChatGPT, to write your peer review assignments or answer other graded assignment questions and submitting those as your own work is considered plagiarism. \n",
    "\n",
    "    Using question-and-answer websites, such as Stack Overflow or Chegg, to post assessment questions and solicit solutions and then submitting responses as your own work is considered plagiarism. \n",
    "\n",
    "If you have any questions regarding academically honest use of resources like ChatGPT or Stack Overflow, please reach out to your course facilitator. "
   ]
  },
  {
   "cell_type": "code",
   "execution_count": null,
   "id": "148b0837",
   "metadata": {},
   "outputs": [],
   "source": []
  }
 ],
 "metadata": {
  "kernelspec": {
   "display_name": "Python 3 (ipykernel)",
   "language": "python",
   "name": "python3"
  },
  "language_info": {
   "codemirror_mode": {
    "name": "ipython",
    "version": 3
   },
   "file_extension": ".py",
   "mimetype": "text/x-python",
   "name": "python",
   "nbconvert_exporter": "python",
   "pygments_lexer": "ipython3",
   "version": "3.9.12"
  }
 },
 "nbformat": 4,
 "nbformat_minor": 5
}
