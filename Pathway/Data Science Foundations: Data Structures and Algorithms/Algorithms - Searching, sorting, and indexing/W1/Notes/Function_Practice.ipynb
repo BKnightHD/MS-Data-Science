{
  "nbformat": 4,
  "nbformat_minor": 0,
  "metadata": {
    "colab": {
      "provenance": [],
      "authorship_tag": "ABX9TyOwBDWMUQ1e7FZ7iYB9ERv/",
      "include_colab_link": true
    },
    "kernelspec": {
      "name": "python3",
      "display_name": "Python 3"
    },
    "language_info": {
      "name": "python"
    }
  },
  "cells": [
    {
      "cell_type": "markdown",
      "metadata": {
        "id": "view-in-github",
        "colab_type": "text"
      },
      "source": [
        "<a href=\"https://colab.research.google.com/github/BKnightHD/BKnightHD/blob/main/Function_Practice.ipynb\" target=\"_parent\"><img src=\"https://colab.research.google.com/assets/colab-badge.svg\" alt=\"Open In Colab\"/></a>"
      ]
    },
    {
      "cell_type": "markdown",
      "source": [
        "# Functions"
      ],
      "metadata": {
        "id": "IlaGqZS8ij9B"
      }
    },
    {
      "cell_type": "code",
      "execution_count": null,
      "metadata": {
        "colab": {
          "base_uri": "https://localhost:8080/"
        },
        "id": "Os3EC0-kiitg",
        "outputId": "597370a3-0e07-4e0d-90f5-7a5febf3a3c2"
      },
      "outputs": [
        {
          "output_type": "stream",
          "name": "stdout",
          "text": [
            "Hello World!\n"
          ]
        }
      ],
      "source": [
        "def greet():  # defining function\n",
        "  \"\"\"Function that prints 'Hello World'\"\"\" # discriptor\n",
        "\n",
        "  print(\"Hello World!\") # function body (what the function will do)\n",
        "\n",
        "greet() # function call"
      ]
    },
    {
      "cell_type": "code",
      "source": [
        "def greet(name): # defining function with parameter called name...\n",
        "                 # when the function is called, we can pass a value to this parameter\n",
        "\n",
        "  print(\"Hello\", name) # print \"Hello \" + name (yet to be passed)\n",
        "\n",
        "greet(\"John\") # here, we pass the name \"John\" to the parameter 'name'.\n",
        "greet(\"David\") # here, we pass the name \"David\" to the parameter 'name'."
      ],
      "metadata": {
        "colab": {
          "base_uri": "https://localhost:8080/"
        },
        "id": "Yj7hu3VPjOUJ",
        "outputId": "39beebab-5394-4066-b7cf-f9a3457f8418"
      },
      "execution_count": null,
      "outputs": [
        {
          "output_type": "stream",
          "name": "stdout",
          "text": [
            "Hello John\n",
            "Hello David\n"
          ]
        }
      ]
    },
    {
      "cell_type": "code",
      "source": [
        "def addition(number):\n",
        "  answer = number + number\n",
        "  return answer\n",
        "\n",
        "result = addition(2)\n",
        "print(result)"
      ],
      "metadata": {
        "colab": {
          "base_uri": "https://localhost:8080/"
        },
        "id": "U_AEIfAOkhXz",
        "outputId": "73379c40-2be4-4092-9d5d-165302d47c78"
      },
      "execution_count": null,
      "outputs": [
        {
          "output_type": "stream",
          "name": "stdout",
          "text": [
            "4\n"
          ]
        }
      ]
    },
    {
      "cell_type": "code",
      "source": [
        "def future_function():\n",
        "  pass\n",
        "\n",
        "future_function()\n",
        "# we can run this code and provide functionality to function at a later time without a runtime error"
      ],
      "metadata": {
        "id": "6yTP99_TzKJr"
      },
      "execution_count": null,
      "outputs": []
    },
    {
      "cell_type": "code",
      "source": [],
      "metadata": {
        "id": "V1SkJePXR08G"
      },
      "execution_count": null,
      "outputs": []
    },
    {
      "cell_type": "code",
      "source": [
        "import random\n",
        "# definining varibales\n",
        "valid_responses = ['yes', 'y', 'no', 'n']\n",
        "yes = valid_responses[:2]\n",
        "no = valid_responses[-2:]\n",
        "counter = 0\n",
        "global guess_counter\n",
        "guess_counter = 0\n",
        "\n",
        "def validate_function2(function_answer2, function_counter2, function_responses2):\n",
        "  \"\"\"This function will valid the response it receveid to check if its usable or not\"\"\"\n",
        "\n",
        "  while function_answer2 not in function_responses2 and function_counter2 < 3:\n",
        "    function_counter2 += 1\n",
        "    function_answer2 = input(\"I don't know how to interpret that answer, please provide yes or no. \").lower()\n",
        "    if function_answer2 in yes:\n",
        "      print(f\"Great! Your answer is {guess}!\\nThanks for playing\")\n",
        "      break\n",
        "\n",
        "    elif function_answer2 in no:\n",
        "      guess_counter += 1\n",
        "      print(\"Gotcha. Let's try again.\")\n",
        "      break\n",
        "\n",
        "    elif function_counter2 >= 3:\n",
        "      print(\"I'm sorry, I can't interpret your answer. Goodbye.\")\n",
        "\n",
        "  global new_answer2 # new concept..global varibale alows for variables defined in functions to be called outside.\n",
        "  new_answer2 = function_answer2\n",
        "  return new_answer2\n",
        "\n",
        "def game():\n",
        "  \"\"\"This function runs the game\"\"\"\n",
        "  # code for full program begins..\n",
        "  input(\"\\nGreat, let's begin!\\n\" +\n",
        "        \"Think of a number between 1 and 15.\\nI'll try to guess in in 3 trys.\\n\" +\n",
        "        \"press enter to see my first guess.\")\n",
        "\n",
        "  # guess random number 3 times\n",
        "  global guess\n",
        "  guess = random.randint(1,15)\n",
        "  answer = input(f\"Is your number {str(guess)}\")\n",
        "  if answer not in valid_responses:\n",
        "    validate_function2(answer, counter, valid_responses)\n",
        "\n",
        "\n",
        "\n",
        "  # ask user what their number was\n",
        "  # confirm if their number was acceptable\n",
        "  # code for full program ends"
      ],
      "metadata": {
        "id": "RJ4YULkEzg-w"
      },
      "execution_count": null,
      "outputs": []
    },
    {
      "cell_type": "code",
      "source": [
        "game()"
      ],
      "metadata": {
        "colab": {
          "base_uri": "https://localhost:8080/"
        },
        "id": "-S-AnI5LQdRS",
        "outputId": "f432a0a5-8e2b-4e37-b30b-31f26ac8e4b6"
      },
      "execution_count": null,
      "outputs": [
        {
          "output_type": "stream",
          "name": "stdout",
          "text": [
            "\n",
            "Great, let's begin!\n",
            "Think of a number between 1 and 15.\n",
            "I'll try to guess in in 3 trys.\n",
            "press enter to see my first guess.\n",
            "Is your number 10\n"
          ]
        }
      ]
    },
    {
      "cell_type": "code",
      "source": [],
      "metadata": {
        "id": "Vw002h1fQeLg"
      },
      "execution_count": null,
      "outputs": []
    }
  ]
}