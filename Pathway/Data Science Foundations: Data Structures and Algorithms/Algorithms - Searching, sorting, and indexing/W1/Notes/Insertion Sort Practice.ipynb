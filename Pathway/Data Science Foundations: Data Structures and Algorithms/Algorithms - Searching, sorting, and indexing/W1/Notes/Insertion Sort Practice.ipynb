{
  "nbformat": 4,
  "nbformat_minor": 0,
  "metadata": {
    "colab": {
      "provenance": [],
      "authorship_tag": "ABX9TyO7N+shXxXSR6aMzzwFhNIj",
      "include_colab_link": true
    },
    "kernelspec": {
      "name": "python3",
      "display_name": "Python 3"
    },
    "language_info": {
      "name": "python"
    }
  },
  "cells": [
    {
      "cell_type": "markdown",
      "metadata": {
        "id": "view-in-github",
        "colab_type": "text"
      },
      "source": [
        "<a href=\"https://colab.research.google.com/github/BKnightHD/MS-Data-Science/blob/main/Pathway/Data%20Science%20Foundations%3A%20Data%20Structures%20and%20Algorithms/Algorithms%20-%20Searching%2C%20sorting%2C%20and%20indexing/W1/Notes/Insertion%20Sort%20Practice.ipynb\" target=\"_parent\"><img src=\"https://colab.research.google.com/assets/colab-badge.svg\" alt=\"Open In Colab\"/></a>"
      ]
    },
    {
      "cell_type": "code",
      "execution_count": null,
      "metadata": {
        "colab": {
          "base_uri": "https://localhost:8080/"
        },
        "id": "weD4ErAMo6vj",
        "outputId": "91097704-56ff-4c83-d475-5c4dae97ce69"
      },
      "outputs": [
        {
          "output_type": "stream",
          "name": "stdout",
          "text": [
            "[5, 6, 11, 12, 13]\n"
          ]
        }
      ],
      "source": [
        "def insertionSort(arr):\n",
        "\tn = len(arr) # Get the length of the array\n",
        "\n",
        "\tif n <= 1:\n",
        "\t\treturn # If the array has 0 or 1 element, it is already sorted, so return\n",
        "\n",
        "\tfor i in range(1, n): # Iterate over the array starting from the second element\n",
        "\t\tkey = arr[i] # Store the current element as the key to be inserted in the right position\n",
        "\t\tj = i-1\n",
        "\t\twhile j >= 0 and key < arr[j]: # Move elements greater than key one position ahead\n",
        "\t\t\tarr[j+1] = arr[j] # Shift elements to the right\n",
        "\t\t\tj -= 1\n",
        "\t\tarr[j+1] = key # Insert the key in the correct position\n",
        "\n",
        "# Sorting the array [12, 11, 13, 5, 6] using insertionSort\n",
        "arr = [12, 11, 13, 5, 6]\n",
        "insertionSort(arr)\n",
        "print(arr)"
      ]
    },
    {
      "cell_type": "markdown",
      "source": [
        "# Conceptualizing insertion sort algorithm\n",
        "- First, I have to understand how to use functions.\\\n",
        "Functions are named blockes of code that are designed to do one specific job. When you want to perform a particular task that you've defined in a function, you call the name of the function responsible for it."
      ],
      "metadata": {
        "id": "C0AqrkAVpC8o"
      }
    },
    {
      "cell_type": "code",
      "source": [
        "def greet_user(): # key work \"def\" is used to tell python we are defining a function\n",
        "  \"\"\"Display a simple greeting.\"\"\" # This is a comment called a docstring; Used to describe what the function does.\n",
        "  print(\"Hello\") # one line of code in this function; greet_user just needs to print \"Hello\"\n",
        "\n",
        "greet_user()"
      ],
      "metadata": {
        "colab": {
          "base_uri": "https://localhost:8080/"
        },
        "id": "OYWV7ok-pGLX",
        "outputId": "def63627-bde8-464c-d456-743ea1175d38"
      },
      "execution_count": null,
      "outputs": [
        {
          "output_type": "stream",
          "name": "stdout",
          "text": [
            "Hello\n"
          ]
        }
      ]
    },
    {
      "cell_type": "code",
      "source": [
        "import random\n",
        "random.seed(34)\n",
        "\n",
        "def insertionSort(arr):\n",
        "  n = len(arr)\n",
        "  if n <= 1:\n",
        "    return\n",
        "\n",
        "  for i in range(1, n):\n",
        "    key = arr[i]\n",
        "    j = i-1\n",
        "\n",
        "    while j >= 0 and key < arr[j]:\n",
        "      arr[j + 1] = arr[j]\n",
        "      j -= 1\n",
        "    arr[j + 1] = key\n",
        "\n",
        "lst = []\n",
        "for i in range(0,10):\n",
        "  number = random.randint(1,10)\n",
        "  while number in lst:\n",
        "      number = random.randint(1,10)\n",
        "  if number not in lst:\n",
        "    lst.append(number)\n",
        "\n",
        "print(\"Here is our original list: \"+ \", \".join(map(str, lst)))\n",
        "insertionSort(lst)\n",
        "print(\"Here is our new sorted list: \"+ \", \".join(map(str, lst)))"
      ],
      "metadata": {
        "id": "YNZ_7OLUqLeM",
        "colab": {
          "base_uri": "https://localhost:8080/"
        },
        "outputId": "c6603688-13ce-4f0a-8073-1496d5846fe0"
      },
      "execution_count": null,
      "outputs": [
        {
          "output_type": "stream",
          "name": "stdout",
          "text": [
            "Here is our original list: 9, 6, 10, 1, 4, 7, 2, 5, 3, 8\n",
            "Here is our new sorted list: 1, 2, 3, 4, 5, 6, 7, 8, 9, 10\n"
          ]
        }
      ]
    },
    {
      "cell_type": "code",
      "source": [],
      "metadata": {
        "id": "Qk8QryLKObbb"
      },
      "execution_count": null,
      "outputs": []
    }
  ]
}