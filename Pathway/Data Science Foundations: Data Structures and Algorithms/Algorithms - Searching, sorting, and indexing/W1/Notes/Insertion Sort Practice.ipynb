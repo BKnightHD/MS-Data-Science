{
  "nbformat": 4,
  "nbformat_minor": 0,
  "metadata": {
    "colab": {
      "provenance": [],
      "authorship_tag": "ABX9TyOI/6x/nj6bEkhdr+bPFarg",
      "include_colab_link": true
    },
    "kernelspec": {
      "name": "python3",
      "display_name": "Python 3"
    },
    "language_info": {
      "name": "python"
    }
  },
  "cells": [
    {
      "cell_type": "markdown",
      "metadata": {
        "id": "view-in-github",
        "colab_type": "text"
      },
      "source": [
        "<a href=\"https://colab.research.google.com/github/BKnightHD/MS-Data-Science/blob/main/Pathway/Data%20Science%20Foundations%3A%20Data%20Structures%20and%20Algorithms/Algorithms%20-%20Searching%2C%20sorting%2C%20and%20indexing/W1/Notes/Insertion%20Sort%20Practice.ipynb\" target=\"_parent\"><img src=\"https://colab.research.google.com/assets/colab-badge.svg\" alt=\"Open In Colab\"/></a>"
      ]
    },
    {
      "cell_type": "code",
      "execution_count": null,
      "metadata": {
        "colab": {
          "base_uri": "https://localhost:8080/"
        },
        "id": "weD4ErAMo6vj",
        "outputId": "91097704-56ff-4c83-d475-5c4dae97ce69"
      },
      "outputs": [
        {
          "output_type": "stream",
          "name": "stdout",
          "text": [
            "[5, 6, 11, 12, 13]\n"
          ]
        }
      ],
      "source": [
        "def insertionSort(arr):\n",
        "\tn = len(arr) # Get the length of the array\n",
        "\n",
        "\tif n <= 1:\n",
        "\t\treturn # If the array has 0 or 1 element, it is already sorted, so return\n",
        "\n",
        "\tfor i in range(1, n): # Iterate over the array starting from the second element\n",
        "\t\tkey = arr[i] # Store the current element as the key to be inserted in the right position\n",
        "\t\tj = i-1\n",
        "\t\twhile j >= 0 and key < arr[j]: # Move elements greater than key one position ahead\n",
        "\t\t\tarr[j+1] = arr[j] # Shift elements to the right\n",
        "\t\t\tj -= 1\n",
        "\t\tarr[j+1] = key # Insert the key in the correct position\n",
        "\n",
        "# Sorting the array [12, 11, 13, 5, 6] using insertionSort\n",
        "arr = [12, 11, 13, 5, 6]\n",
        "insertionSort(arr)\n",
        "print(arr)"
      ]
    },
    {
      "cell_type": "markdown",
      "source": [
        "# Conceptualizing insertion sort algorithm\n",
        "- First, I have to understand how to use functions.\\\n",
        "Functions are named blockes of code that are designed to do one specific job. When you want to perform a particular task that you've defined in a function, you call the name of the function responsible for it."
      ],
      "metadata": {
        "id": "C0AqrkAVpC8o"
      }
    },
    {
      "cell_type": "code",
      "source": [
        "def greet_user(): # key work \"def\" is used to tell python we are defining a function\n",
        "  \"\"\"Display a simple greeting.\"\"\" # This is a comment called a docstring; Used to describe what the function does.\n",
        "  print(\"Hello\") # one line of code in this function; greet_user just needs to print \"Hello\"\n",
        "\n",
        "greet_user()"
      ],
      "metadata": {
        "colab": {
          "base_uri": "https://localhost:8080/"
        },
        "id": "OYWV7ok-pGLX",
        "outputId": "def63627-bde8-464c-d456-743ea1175d38"
      },
      "execution_count": null,
      "outputs": [
        {
          "output_type": "stream",
          "name": "stdout",
          "text": [
            "Hello\n"
          ]
        }
      ]
    },
    {
      "cell_type": "code",
      "source": [],
      "metadata": {
        "id": "YNZ_7OLUqLeM"
      },
      "execution_count": null,
      "outputs": []
    }
  ]
}