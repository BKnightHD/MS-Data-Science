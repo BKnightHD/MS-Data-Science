{
  "nbformat": 4,
  "nbformat_minor": 0,
  "metadata": {
    "colab": {
      "provenance": [],
      "authorship_tag": "ABX9TyMuRQVbPD1B9XdCM0ZNzqdS",
      "include_colab_link": true
    },
    "kernelspec": {
      "name": "python3",
      "display_name": "Python 3"
    },
    "language_info": {
      "name": "python"
    }
  },
  "cells": [
    {
      "cell_type": "markdown",
      "metadata": {
        "id": "view-in-github",
        "colab_type": "text"
      },
      "source": [
        "<a href=\"https://colab.research.google.com/github/BKnightHD/MS-Data-Science/blob/main/M3.ipynb\" target=\"_parent\"><img src=\"https://colab.research.google.com/assets/colab-badge.svg\" alt=\"Open In Colab\"/></a>"
      ]
    },
    {
      "cell_type": "code",
      "source": [
        "def testIfPartitioned(a, k):\n",
        "    assert 0 <= k < len(a)\n",
        "\n",
        "    left = a[:k]\n",
        "    right = a[k+1:]\n",
        "\n",
        "    for i in left:\n",
        "        if i > a[k]:\n",
        "            return False\n",
        "\n",
        "    for i in right:\n",
        "        if i <= a[k]:\n",
        "            return False\n",
        "    return True"
      ],
      "metadata": {
        "id": "5wWliQqy0_OH"
      },
      "execution_count": null,
      "outputs": []
    },
    {
      "cell_type": "code",
      "source": [
        "assert testIfPartitioned([-1, 5, 2, 3, 4, 8, 9, 14, 10, 23],5) == True, ' Test # 1 failed.'\n",
        "assert testIfPartitioned([-1, 5, 2, 3, 4, 8, 9, 14, 11, 23],4) == False, ' Test # 2 failed.'\n",
        "assert testIfPartitioned([-1, 5, 2, 3, 4, 8, 9, 14, 23, 21],0) == True, ' Test # 3 failed.'\n",
        "assert testIfPartitioned([-1, 5, 2, 3, 4, 8, 9, 14, 22, 23],9) == True, ' Test # 4 failed.'\n",
        "assert testIfPartitioned([-1, 5, 2, 3, 4, 8, 9, 14, 8, 23],5) == False, ' Test # 5 failed.'\n",
        "assert testIfPartitioned([-1, 5, 2, 3, 4, 8, 9, 13, 9, -11],5) == False, ' Test # 6 failed.'\n",
        "assert testIfPartitioned([4, 4, 4, 4, 4, 8, 9, 13, 9, 11],4) == True, ' Test # 7 failed.'\n",
        "print('Passed all tests (10 points)')"
      ],
      "metadata": {
        "colab": {
          "base_uri": "https://localhost:8080/"
        },
        "id": "pm2OzZ6z2Tth",
        "outputId": "d7e6f8a5-23de-4f02-98c7-d126444c4119"
      },
      "execution_count": null,
      "outputs": [
        {
          "output_type": "stream",
          "name": "stdout",
          "text": [
            "Passed all tests (10 points)\n"
          ]
        }
      ]
    },
    {
      "cell_type": "code",
      "source": [
        "def swap(a, i, j):\n",
        "    assert 0 <= i < len(a), f'accessing index {i} beyond end of array {len(a)}'\n",
        "    assert 0 <= j < len(a), f'accessing index {j} beyond end of array {len(a)}'\n",
        "    a[i], a[j] = a[j], a[i]\n",
        "\n",
        "def tryPartition(a):\n",
        "    # implementation of Lomuto partitioning algorithm\n",
        "    n = len(a)\n",
        "    pivot = a[n-1] # choose last element as the pivot.\n",
        "    i,j = 0,0 # initialize i and j both to be 0\n",
        "    for j in range(n-1): # j = 0 to n-2 (inclusive)\n",
        "        # Invariant: a[0] .. a[i] are <= pivot\n",
        "        #            a[i+1]...a[j-1] are > pivot\n",
        "        if a[j] <= pivot:\n",
        "            swap(a, i+1, j)\n",
        "            i = i + 1\n",
        "    swap(a, i+1, n-1) # place pivot in its correct place.\n",
        "    return i+1 # return the index where we placed the pivot"
      ],
      "metadata": {
        "id": "tOQlkQ4P5TBT"
      },
      "execution_count": null,
      "outputs": []
    },
    {
      "cell_type": "code",
      "source": [
        "# Write an array called a1 that will be incorrectly partitioned by the tryPartition algorithm above\n",
        "# Your input when run on tryPartition algorithm should raise an out of bounds array access exception\n",
        "# in the swap function or fail to partition correctly.\n",
        "\n",
        "## Define an array a1 below of length > 0 that will be incorrectly partitioned by tryPartition algorithm.\n",
        "## We will test whether your solution works in the subsequent cells.\n",
        "# your code here\n",
        "a1 = [-1, 5, 2, 3, 4, 8, 9, 14, 10, 23]\n",
        "assert(len(a1) > 0)\n",
        "\n",
        "# Write an array called a2 that will be incorrectly partitioned by the tryPartition algorithm above\n",
        "# Your input when run on tryPartition algorithm should raise an out of bounds array access exception\n",
        "# in the swap function or fail to partition correctly.\n",
        "# a2 must be different from a1\n",
        "\n",
        "# your code here\n",
        "a2 = [-1, 5, 2, 3, 4, 8, 9, 14, 10, 24]\n",
        "assert( len(a2) > 0)\n",
        "assert (a1 != a2)\n",
        "\n",
        "\n",
        "# Write an array called a3 that will be incorrectly partitioned by the tryPartition algorithm above\n",
        "# Your input when run on tryPartition algorithm should raise an out of bounds array access exception\n",
        "# in the swap function or fail to partition correctly.\n",
        "# a3 must be different from a1, a2\n",
        "\n",
        "# your code here\n",
        "a3 = [-1, 5, 2, 3, 4, 8, 9, 14, 10, 25]\n",
        "assert( len(a3) > 0)\n",
        "assert (a3 != a2)\n",
        "assert (a3 != a1)\n",
        "\n",
        "def dummyFunction():\n",
        "    pass\n"
      ],
      "metadata": {
        "id": "4lI9z5Qy9-e8"
      },
      "execution_count": null,
      "outputs": []
    },
    {
      "cell_type": "code",
      "source": [
        "# your code here"
      ],
      "metadata": {
        "id": "wtagQLST7pYR"
      },
      "execution_count": null,
      "outputs": []
    },
    {
      "cell_type": "code",
      "source": [
        "try:\n",
        "    j1 = tryPartition(a1)\n",
        "    assert not testIfPartitioned(a1, j1)\n",
        "    print('Partitioning was unsuccessful - this is what you were asked to break the code')\n",
        "except Exception as e:\n",
        "    print(f'Assertion failed {e} - this is fine since you were asked to break the code.')\n",
        "\n",
        "try:\n",
        "    j2 = tryPartition(a2)\n",
        "    assert not testIfPartitioned(a2, j2)\n",
        "except Exception as e:\n",
        "    print(f'Assertion failed {e} - this is fine since you were asked to break the code.')\n",
        "\n",
        "\n",
        "try:\n",
        "    j3 = tryPartition(a3)\n",
        "    assert not testIfPartitioned(a3, j3)\n",
        "except Exception as e:\n",
        "    print(f'Assertion failed {e} - this is fine since you were asked to break the code.')\n",
        "\n",
        "dummyFunction()\n",
        "\n",
        "print('Passed 5 points!')"
      ],
      "metadata": {
        "colab": {
          "base_uri": "https://localhost:8080/"
        },
        "id": "mDgQ1kZr7pwJ",
        "outputId": "edbcee48-1bc3-4e39-ac3b-547c7d2f5ed6"
      },
      "execution_count": null,
      "outputs": [
        {
          "output_type": "stream",
          "name": "stdout",
          "text": [
            "Assertion failed accessing index 10 beyond end of array 10 - this is fine since you were asked to break the code.\n",
            "Assertion failed accessing index 10 beyond end of array 10 - this is fine since you were asked to break the code.\n",
            "Assertion failed accessing index 10 beyond end of array 10 - this is fine since you were asked to break the code.\n",
            "Passed 5 points!\n"
          ]
        }
      ]
    },
    {
      "cell_type": "code",
      "source": [
        "from random import random\n",
        "\n",
        "def dot_product(lst_a, lst_b):\n",
        "    and_list = [elt_a * elt_b for (elt_a, elt_b) in zip(lst_a, lst_b)]\n",
        "    return 0 if sum(and_list)% 2 == 0 else 1\n",
        "\n",
        "def matrix_multiplication(H, lst):\n",
        "    results = []\n",
        "    for row in H:\n",
        "        and_list = [elt_a * elt_b for (elt_a, elt_b) in zip(row, lst)]\n",
        "        results.append(0 if sum(and_list) % 2 == 0 else 1)\n",
        "    return results"
      ],
      "metadata": {
        "id": "vKhWR7-9EQw4"
      },
      "execution_count": null,
      "outputs": []
    },
    {
      "cell_type": "code",
      "source": [
        "A1 = [[0,1,0,1],[1,0,0,0],[1,0,1,1]]\n",
        "b1 = [1,1,1,0]\n",
        "c1 = matrix_multiplication(A1, b1)\n",
        "print('c1=', c1)\n",
        "assert c1 == [1,1,0] , 'Test 1 failed'\n",
        "\n",
        "A2 = [ [1,1],[0,1]]\n",
        "b2 = [1,0]\n",
        "c2 = matrix_multiplication(A2, b2)\n",
        "print('c2=', c2)\n",
        "assert c2 == [1, 0], 'Test 2 failed'\n",
        "\n",
        "A3 = [ [1,1,1,0],[0,1,1,0]]\n",
        "b3 =  [1, 0,0,1]\n",
        "c3 = matrix_multiplication(A3, b3)\n",
        "print('c3=', c3)\n",
        "assert c3 == [1, 0], 'Test 3 failed'"
      ],
      "metadata": {
        "colab": {
          "base_uri": "https://localhost:8080/"
        },
        "id": "xg9mlozjQ-RD",
        "outputId": "8a2f53ea-f3a0-4ac7-e059-e8222c4f2191"
      },
      "execution_count": null,
      "outputs": [
        {
          "output_type": "stream",
          "name": "stdout",
          "text": [
            "c1= [1, 1, 0]\n",
            "c2= [1, 0]\n",
            "c3= [1, 0]\n"
          ]
        }
      ]
    },
    {
      "cell_type": "code",
      "source": [
        "import numpy as np\n",
        "def return_random_hash_function(m, n):\n",
        "  x = np.random.choice([1,0], p=[0.5, 0.5], size=(m, n))\n",
        "  return x\n",
        "    # return a random hash function wherein each entry is chosen as 1 with probability >= 1/2 and 0 with probability < 1/2\n",
        "    # your code here\n",
        "\n",
        "H = return_random_hash_function(5,4)\n",
        "print('H=', H)\n",
        "assert len(H) == 5, 'Test 5 failed'\n",
        "assert all(len(row) == 4 for row in H), 'Test 6 failed'\n",
        "assert all(elt == 0 or elt == 1 for row in H for elt in row ),  'Test 7 failed'\n",
        "\n",
        "H2 = return_random_hash_function(6,3)\n",
        "print('H2=', H2)\n",
        "assert len(H2) == 6, 'Test 8 failed'\n",
        "assert all(len(row) == 3 for row in H2),  'Test 9 failed'\n",
        "assert all(elt == 0 or elt == 1 for row in H2 for elt in row ), 'Test 10 failed'\n",
        "print('Tests passed: 10 points!')"
      ],
      "metadata": {
        "colab": {
          "base_uri": "https://localhost:8080/"
        },
        "id": "OJt3JDpXTVz1",
        "outputId": "e7865620-dc9f-4a90-dcd0-6fd75b63a537"
      },
      "execution_count": null,
      "outputs": [
        {
          "output_type": "stream",
          "name": "stdout",
          "text": [
            "H= [[1 0 1 0]\n",
            " [0 0 1 0]\n",
            " [0 0 1 0]\n",
            " [1 0 1 1]\n",
            " [1 0 0 1]]\n",
            "H2= [[0 1 1]\n",
            " [0 1 0]\n",
            " [1 1 1]\n",
            " [0 1 1]\n",
            " [1 1 1]\n",
            " [0 1 0]]\n",
            "Tests passed: 10 points!\n"
          ]
        }
      ]
    },
    {
      "cell_type": "code",
      "source": [],
      "metadata": {
        "id": "tDq-GrwMWERj"
      },
      "execution_count": null,
      "outputs": []
    }
  ]
}