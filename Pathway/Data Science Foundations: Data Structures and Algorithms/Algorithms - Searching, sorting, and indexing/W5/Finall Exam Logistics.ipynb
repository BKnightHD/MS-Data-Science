{
 "cells": [
  {
   "cell_type": "markdown",
   "id": "1cf09e4e",
   "metadata": {},
   "source": [
    "- In the case of Data Structure and Algorithms, the final exam was <b>supervised</b> in the first session of the inauguration of the master's degree with a <b>duration of 1h 32m</b> \n",
    "\n",
    "- In the following sessions, the final exams have been <b>unsupervised</b> with a <b>24-hour deadline (take home final exam).</b>"
   ]
  },
  {
   "cell_type": "markdown",
   "id": "8b057438",
   "metadata": {},
   "source": [
    "- In the case of final exams, you only have one opportunity to send the \"notebook\"; so you have to be 100% sure that you have coded efficiently."
   ]
  },
  {
   "cell_type": "markdown",
   "id": "1ecb0286",
   "metadata": {},
   "source": [
    "- https://sistemas.ai/postgrado-ciencia-de-datos-master-of-science-in-data-science-university-of-colorado-boulder-data-structures-algorithms/"
   ]
  },
  {
   "cell_type": "markdown",
   "id": "087a8dfd",
   "metadata": {},
   "source": [
    "(commented on website, asking about the final exam)"
   ]
  },
  {
   "cell_type": "code",
   "execution_count": null,
   "id": "6c01c4be",
   "metadata": {},
   "outputs": [],
   "source": []
  }
 ],
 "metadata": {
  "kernelspec": {
   "display_name": "Python 3 (ipykernel)",
   "language": "python",
   "name": "python3"
  },
  "language_info": {
   "codemirror_mode": {
    "name": "ipython",
    "version": 3
   },
   "file_extension": ".py",
   "mimetype": "text/x-python",
   "name": "python",
   "nbconvert_exporter": "python",
   "pygments_lexer": "ipython3",
   "version": "3.9.12"
  }
 },
 "nbformat": 4,
 "nbformat_minor": 5
}
