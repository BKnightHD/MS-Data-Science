{
 "cells": [
  {
   "cell_type": "code",
   "execution_count": 1,
   "metadata": {},
   "outputs": [
    {
     "data": {
      "text/html": [
       "0.54"
      ],
      "text/latex": [
       "0.54"
      ],
      "text/markdown": [
       "0.54"
      ],
      "text/plain": [
       "[1] 0.54"
      ]
     },
     "metadata": {},
     "output_type": "display_data"
    },
    {
     "data": {
      "text/html": [
       "0.82"
      ],
      "text/latex": [
       "0.82"
      ],
      "text/markdown": [
       "0.82"
      ],
      "text/plain": [
       "[1] 0.82"
      ]
     },
     "metadata": {},
     "output_type": "display_data"
    },
    {
     "data": {
      "text/html": [
       "0.69"
      ],
      "text/latex": [
       "0.69"
      ],
      "text/markdown": [
       "0.69"
      ],
      "text/plain": [
       "[1] 0.69"
      ]
     },
     "metadata": {},
     "output_type": "display_data"
    }
   ],
   "source": [
    "n = 100\n",
    "xbar = 68 / 100\n",
    "mu0 = .6\n",
    "variance = xbar * (1 - xbar)\n",
    "sigma = sqrt(variance)\n",
    "\n",
    "lower = round(xbar - 3 * sqrt(variance / n), 3)\n",
    "upper = round(xbar + 3 * sqrt(variance / n), 3)\n",
    "lower\n",
    "upper\n",
    "\n",
    "z = qnorm(1 - .03)\n",
    "moe = z * sigma / sqrt(n)\n",
    "round(mu0 + moe, 2)\n",
    "\n",
    "# setup to reject the null hypothesis, in favor of H1 if xbar < mu0"
   ]
  },
  {
   "cell_type": "code",
   "execution_count": 2,
   "metadata": {},
   "outputs": [
    {
     "name": "stdout",
     "output_type": "stream",
     "text": [
      "Z-score: 1.63 \n",
      "Critical value: 1.88 \n",
      "Decision: Fail to reject H0: New drug is not superior. \n"
     ]
    }
   ],
   "source": [
    "# Given data\n",
    "mu0 = .6      # Null hypothesis\n",
    "n = 100       # Sample size\n",
    "xbar = 68 / n # Sample mean\n",
    "alpha = .03   # Significance level\n",
    "\n",
    "# Calculate the standard error of the sample proportion\n",
    "se = sqrt((mu0 * (1 - mu0)) / n)\n",
    "\n",
    "# Calculate the z-score\n",
    "z = (xbar - mu0) / se\n",
    "\n",
    "# Calculate the critical z-value for a one-tailed test\n",
    "critical_value = qnorm(1 - alpha)\n",
    "\n",
    "# Make a decision\n",
    "if (z > critical_value) {\n",
    " decision = \"Reject H0: New drug is superior.\"\n",
    "} else {\n",
    "  decision = \"Fail to reject H0: New drug is not superior.\"\n",
    "}\n",
    "\n",
    "# Print the results\n",
    "cat(\"Z-score:\", round(z, 2), \"\\n\")\n",
    "cat(\"Critical value:\", round(critical_value, 2), \"\\n\")\n",
    "cat(\"Decision:\", decision, \"\\n\")"
   ]
  },
  {
   "cell_type": "code",
   "execution_count": 3,
   "metadata": {},
   "outputs": [
    {
     "name": "stdout",
     "output_type": "stream",
     "text": [
      "Critical value = 171.44 \n",
      "Fail to Reject H0: mu0 = 171.33 \n",
      "P-value: 0.2184 \n"
     ]
    }
   ],
   "source": [
    "# Given data\n",
    "sample.data = c(179, 156, 167, 183, 178, 165)   # Sample data\n",
    "n = length(sample.data)                         # Sample size\n",
    "xbar = mean(sample.data)                        # Sample mean\n",
    "\n",
    "\n",
    "# Assuming that Brinell hardness is normally distributed with standard deviation 4.2, consider testing \n",
    "# H0: mu = 170 vs. H1: mu > 170\n",
    "\n",
    "# What is the p-value for this test and what is the conclusion based on this data set at .2 level of significance?\n",
    "\n",
    "alpha = .2                                      # Level of significance\n",
    "\n",
    "# We know the variance, so there's no need to maximize P(Type 1 Error)\n",
    "# Reject H0 in favor of H1 if xbar is greater than some c value to be determined.\n",
    "\n",
    "sigma = 4.2                                     # True standard deviation\n",
    "mu0 = 170                                       # Null hypothesis mean\n",
    "se = sigma / sqrt(n)\n",
    "z = (xbar - mu0) / se\n",
    "critical.value = qnorm(1 - alpha)\n",
    "\n",
    "c = critical.value * (sigma / sqrt(n)) + mu0\n",
    "\n",
    "cat(\"Critical value =\", round(c, 2), \"\\n\")\n",
    "\n",
    "# Print the result\n",
    "cat(\"Fail to Reject H0: mu0 =\", round(xbar, 2), \"\\n\")\n",
    "\n",
    "# Print the p-value\n",
    "p.value = 1 - pnorm(z)\n",
    "cat(\"P-value:\", round(p.value, 4), \"\\n\")"
   ]
  },
  {
   "cell_type": "code",
   "execution_count": 4,
   "metadata": {},
   "outputs": [
    {
     "data": {
      "text/html": [
       "13.97"
      ],
      "text/latex": [
       "13.97"
      ],
      "text/markdown": [
       "13.97"
      ],
      "text/plain": [
       "[1] 13.97"
      ]
     },
     "metadata": {},
     "output_type": "display_data"
    },
    {
     "data": {
      "text/html": [
       "14.03"
      ],
      "text/latex": [
       "14.03"
      ],
      "text/markdown": [
       "14.03"
      ],
      "text/plain": [
       "[1] 14.03"
      ]
     },
     "metadata": {},
     "output_type": "display_data"
    }
   ],
   "source": [
    "n = 20\n",
    "xbar = 13.8\n",
    "mu0 = 14\n",
    "sigma = .08\n",
    "alpha = .05\n",
    "\n",
    "se = sigma / sqrt(n)\n",
    "z = (xbar - mu0) / se\n",
    "\n",
    "# H0: mu0 = 16, H1: mu0 < 16\n",
    "\n",
    "critical.value = qnorm(alpha)\n",
    "critical.value2 = qnorm(1 - alpha)\n",
    "c.lower = critical.value * se + mu0\n",
    "c.upper = critical.value2 * se + mu0\n",
    "round(c.lower, 2)\n",
    "round(c.upper, 2)"
   ]
  },
  {
   "cell_type": "code",
   "execution_count": 21,
   "metadata": {},
   "outputs": [
    {
     "data": {
      "text/html": [
       "1.345"
      ],
      "text/latex": [
       "1.345"
      ],
      "text/markdown": [
       "1.345"
      ],
      "text/plain": [
       "[1] 1.345"
      ]
     },
     "metadata": {},
     "output_type": "display_data"
    },
    {
     "data": {
      "text/html": [
       "6033"
      ],
      "text/latex": [
       "6033"
      ],
      "text/markdown": [
       "6033"
      ],
      "text/plain": [
       "[1] 6033"
      ]
     },
     "metadata": {},
     "output_type": "display_data"
    },
    {
     "data": {
      "text/html": [
       "6024.98"
      ],
      "text/latex": [
       "6024.98"
      ],
      "text/markdown": [
       "6024.98"
      ],
      "text/plain": [
       "[1] 6024.98"
      ]
     },
     "metadata": {},
     "output_type": "display_data"
    },
    {
     "data": {
      "text/html": [
       "0.015"
      ],
      "text/latex": [
       "0.015"
      ],
      "text/markdown": [
       "0.015"
      ],
      "text/plain": [
       "[1] 0.015"
      ]
     },
     "metadata": {},
     "output_type": "display_data"
    }
   ],
   "source": [
    "s = sqrt(825)\n",
    "xbar = 6033\n",
    "mu0 = 6015\n",
    "n = 15\n",
    "alpha = .10\n",
    "t = qt(1 - alpha, n - 1)\n",
    "moe = t * s / sqrt(n)\n",
    "t.cutoff = mu0 + moe\n",
    "round(t, 3)\n",
    "round(xbar, 2)\n",
    "round(t.cutoff, 2)\n",
    "\n",
    "#finding p.value\n",
    "value = round((6033 - 6015) / (s / sqrt(n)), 2)\n",
    "# Find probability that T is greater than value\n",
    "round(1 - pt(value, n - 1), 3) # this is less than our alpha, so we're good"
   ]
  },
  {
   "cell_type": "code",
   "execution_count": null,
   "metadata": {},
   "outputs": [],
   "source": []
  }
 ],
 "metadata": {
  "kernelspec": {
   "display_name": "R",
   "language": "R",
   "name": "ir"
  },
  "language_info": {
   "codemirror_mode": "r",
   "file_extension": ".r",
   "mimetype": "text/x-r-source",
   "name": "R",
   "pygments_lexer": "r",
   "version": "3.6.3"
  }
 },
 "nbformat": 4,
 "nbformat_minor": 4
}
