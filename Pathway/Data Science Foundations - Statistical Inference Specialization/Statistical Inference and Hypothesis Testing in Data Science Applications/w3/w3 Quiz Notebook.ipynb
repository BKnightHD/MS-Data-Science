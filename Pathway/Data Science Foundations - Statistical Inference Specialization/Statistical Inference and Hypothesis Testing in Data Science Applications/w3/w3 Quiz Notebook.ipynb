{
 "cells": [
  {
   "cell_type": "code",
   "execution_count": 49,
   "metadata": {},
   "outputs": [
    {
     "data": {
      "text/html": [
       "-2.268"
      ],
      "text/latex": [
       "-2.268"
      ],
      "text/markdown": [
       "-2.268"
      ],
      "text/plain": [
       "[1] -2.268"
      ]
     },
     "metadata": {},
     "output_type": "display_data"
    },
    {
     "data": {
      "text/html": [
       "0.0496"
      ],
      "text/latex": [
       "0.0496"
      ],
      "text/markdown": [
       "0.0496"
      ],
      "text/plain": [
       "[1] 0.0496"
      ]
     },
     "metadata": {},
     "output_type": "display_data"
    }
   ],
   "source": [
    "# want to know if mu0 = 40\n",
    "\n",
    "mu0 = 40\n",
    "n = 10\n",
    "xbar = 38.8\n",
    "sample.variance = 2.8\n",
    "\n",
    "# standardize the distribution\n",
    "\n",
    "z = round((xbar - mu0) / (sqrt(sample.variance) / sqrt(n)), 3)\n",
    "z\n",
    "v = round(pt(z, n - 1), 4) # we use the t-distibution because it's a small sample size\n",
    "v * 2 # multiply by two because it's two tailed"
   ]
  },
  {
   "cell_type": "code",
   "execution_count": 42,
   "metadata": {},
   "outputs": [
    {
     "data": {
      "text/html": [
       "1.76"
      ],
      "text/latex": [
       "1.76"
      ],
      "text/markdown": [
       "1.76"
      ],
      "text/plain": [
       "[1] 1.76"
      ]
     },
     "metadata": {},
     "output_type": "display_data"
    },
    {
     "data": {
      "text/html": [
       "2.2"
      ],
      "text/latex": [
       "2.2"
      ],
      "text/markdown": [
       "2.2"
      ],
      "text/plain": [
       "[1] 2.2"
      ]
     },
     "metadata": {},
     "output_type": "display_data"
    },
    {
     "data": {
      "text/html": [
       "3.1"
      ],
      "text/latex": [
       "3.1"
      ],
      "text/markdown": [
       "3.1"
      ],
      "text/plain": [
       "[1] 3.1"
      ]
     },
     "metadata": {},
     "output_type": "display_data"
    }
   ],
   "source": [
    "# Is there evidence in the data to conclude true mean training time > 50?\n",
    "\n",
    "n = 15             # Small smaple size; t-distribution\n",
    "xbar = 53.87\n",
    "mu0 = 50\n",
    "sample.sd = 6.82   # True Variance in unkown; t-distribution\n",
    "alpha = .05\n",
    "\n",
    "t = round(qt(1 - alpha, n -1), 2)\n",
    "t                  # T Critical Value\n",
    "# Standardize normal\n",
    "\n",
    "round((xbar - mu0) / (sample.sd / sqrt(n)), 2)  # Test Statistic\n",
    "\n",
    "cut.off = t * sample.sd / sqrt(n)\n",
    "\n",
    "round(cut.off, 2)\n",
    "\n",
    "# Conclusion, we fail to reject H0"
   ]
  },
  {
   "cell_type": "code",
   "execution_count": 47,
   "metadata": {},
   "outputs": [
    {
     "data": {
      "text/html": [
       "3.29"
      ],
      "text/latex": [
       "3.29"
      ],
      "text/markdown": [
       "3.29"
      ],
      "text/plain": [
       "[1] 3.29"
      ]
     },
     "metadata": {},
     "output_type": "display_data"
    }
   ],
   "source": [
    "n.a = 120\n",
    "xbar.a = 4.1\n",
    "sample.var.a = 2.1^2\n",
    "\n",
    "n.b = 100\n",
    "xbar.b = 3.3\n",
    "sample.var.b = 1.5^2\n",
    "\n",
    "round((xbar.a - xbar.b) / sqrt((sample.var.a / n.a) + (sample.var.b /n.b)), 2)"
   ]
  }
 ],
 "metadata": {
  "kernelspec": {
   "display_name": "R",
   "language": "R",
   "name": "ir"
  }
 },
 "nbformat": 4,
 "nbformat_minor": 4
}
