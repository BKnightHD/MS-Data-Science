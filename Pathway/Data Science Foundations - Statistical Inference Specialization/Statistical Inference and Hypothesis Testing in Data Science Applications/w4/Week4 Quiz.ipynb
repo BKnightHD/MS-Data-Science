{
 "cells": [
  {
   "cell_type": "code",
   "execution_count": 12,
   "metadata": {},
   "outputs": [
    {
     "data": {
      "text/html": [
       "18.307"
      ],
      "text/latex": [
       "18.307"
      ],
      "text/markdown": [
       "18.307"
      ],
      "text/plain": [
       "[1] 18.307"
      ]
     },
     "metadata": {},
     "output_type": "display_data"
    },
    {
     "data": {
      "text/html": [
       "15.21"
      ],
      "text/latex": [
       "15.21"
      ],
      "text/markdown": [
       "15.21"
      ],
      "text/plain": [
       "[1] 15.21"
      ]
     },
     "metadata": {},
     "output_type": "display_data"
    }
   ],
   "source": [
    "sample.variance = 27.04\n",
    "n = 10\n",
    "statistic = (n - 1)* sample.variance / 16\n",
    "alpha = .05\n",
    "round(qchisq(1-alpha,n), 3)\n",
    "statistic"
   ]
  },
  {
   "cell_type": "code",
   "execution_count": 16,
   "metadata": {},
   "outputs": [
    {
     "data": {
      "text/html": [
       "0.085"
      ],
      "text/latex": [
       "0.085"
      ],
      "text/markdown": [
       "0.085"
      ],
      "text/plain": [
       "[1] 0.085"
      ]
     },
     "metadata": {},
     "output_type": "display_data"
    }
   ],
   "source": [
    "round(1- pchisq(statistic,n-1), 3)"
   ]
  },
  {
   "cell_type": "code",
   "execution_count": 26,
   "metadata": {},
   "outputs": [
    {
     "data": {
      "text/html": [
       "1.1439"
      ],
      "text/latex": [
       "1.1439"
      ],
      "text/markdown": [
       "1.1439"
      ],
      "text/plain": [
       "[1] 1.1439"
      ]
     },
     "metadata": {},
     "output_type": "display_data"
    },
    {
     "data": {
      "text/html": [
       "6.4287"
      ],
      "text/latex": [
       "6.4287"
      ],
      "text/markdown": [
       "6.4287"
      ],
      "text/plain": [
       "[1] 6.4287"
      ]
     },
     "metadata": {},
     "output_type": "display_data"
    }
   ],
   "source": [
    "n1 = 8\n",
    "n2 = 6\n",
    "round(15.1 / 13.2, 4)\n",
    "alpha = .03\n",
    "\n",
    "round(qf(1 - (alpha/2),5,7), 4)"
   ]
  },
  {
   "cell_type": "code",
   "execution_count": null,
   "metadata": {},
   "outputs": [],
   "source": []
  }
 ],
 "metadata": {
  "kernelspec": {
   "display_name": "R",
   "language": "R",
   "name": "ir"
  }
 },
 "nbformat": 4,
 "nbformat_minor": 4
}
