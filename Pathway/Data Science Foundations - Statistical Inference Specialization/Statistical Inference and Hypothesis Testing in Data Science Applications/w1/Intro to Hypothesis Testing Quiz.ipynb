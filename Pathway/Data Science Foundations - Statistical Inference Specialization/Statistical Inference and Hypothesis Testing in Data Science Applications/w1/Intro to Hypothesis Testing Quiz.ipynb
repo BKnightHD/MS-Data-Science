{
 "cells": [
  {
   "cell_type": "code",
   "execution_count": 51,
   "metadata": {},
   "outputs": [
    {
     "data": {
      "text/html": [
       "-2.43"
      ],
      "text/latex": [
       "-2.43"
      ],
      "text/markdown": [
       "-2.43"
      ],
      "text/plain": [
       "[1] -2.43"
      ]
     },
     "metadata": {},
     "output_type": "display_data"
    },
    {
     "data": {
      "text/html": [
       "21.29"
      ],
      "text/latex": [
       "21.29"
      ],
      "text/markdown": [
       "21.29"
      ],
      "text/plain": [
       "[1] 21.29"
      ]
     },
     "metadata": {},
     "output_type": "display_data"
    }
   ],
   "source": [
    "xbar = 18.86\n",
    "mu0 = 20\n",
    "s = 8.6\n",
    "n = 73\n",
    "\n",
    "# level of significance alpha = .10 -- translates to a 80% confidence interval\n",
    "value = 1 - ((1 - .80) / 2)\n",
    "z = qnorm(value)\n",
    "\n",
    "moe = z * s / sqrt(n)\n",
    "cutoff = mu0 + moe\n",
    "\n",
    "round(xbar - cutoff, 2)\n",
    "\n",
    "round(cutoff, 2)"
   ]
  },
  {
   "cell_type": "code",
   "execution_count": 66,
   "metadata": {},
   "outputs": [
    {
     "data": {
      "text/html": [
       "13.8"
      ],
      "text/latex": [
       "13.8"
      ],
      "text/markdown": [
       "13.8"
      ],
      "text/plain": [
       "[1] 13.8"
      ]
     },
     "metadata": {},
     "output_type": "display_data"
    }
   ],
   "source": [
    "mu0 = 15\n",
    "n = 12\n",
    "s = sqrt(6.43)\n",
    "value = (1 - .05)\n",
    "z = qnorm(value)\n",
    "moe = z * s / sqrt(n)\n",
    "cutoff = 15 - moe\n",
    "round(cutoff, 2)\n",
    "\n",
    "# below what value does xbar need to be for us to reject H0 in favor of H1?\n"
   ]
  },
  {
   "cell_type": "code",
   "execution_count": 63,
   "metadata": {},
   "outputs": [
    {
     "data": {
      "text/html": [
       "48.08"
      ],
      "text/latex": [
       "48.08"
      ],
      "text/markdown": [
       "48.08"
      ],
      "text/plain": [
       "[1] 48.08"
      ]
     },
     "metadata": {},
     "output_type": "display_data"
    }
   ],
   "source": [
    "n = 15\n",
    "s = 3.2\n",
    "mu0 = 50\n",
    "\n",
    "# what is the largest sample mean that could be observed that will make the company switch the oneline program?\n",
    "# relative hypothesis at level alpha = .01\n",
    "\n",
    "value = 1 - .01\n",
    "z = qnorm(value)\n",
    "moe = z * s / sqrt(n)\n",
    "\n",
    "cutoff = 50 - moe\n",
    "round(cutoff, 2)"
   ]
  },
  {
   "cell_type": "code",
   "execution_count": null,
   "metadata": {},
   "outputs": [],
   "source": []
  }
 ],
 "metadata": {
  "kernelspec": {
   "display_name": "R",
   "language": "R",
   "name": "ir"
  },
  "language_info": {
   "codemirror_mode": "r",
   "file_extension": ".r",
   "mimetype": "text/x-r-source",
   "name": "R",
   "pygments_lexer": "r",
   "version": "3.6.3"
  }
 },
 "nbformat": 4,
 "nbformat_minor": 4
}
