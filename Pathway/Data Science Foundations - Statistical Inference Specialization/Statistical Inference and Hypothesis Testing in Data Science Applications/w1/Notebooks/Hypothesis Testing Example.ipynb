{
 "cells": [
  {
   "cell_type": "markdown",
   "metadata": {},
   "source": [
    "Suppose x1, x2,.....xn is a random sample from the normal distribution with mean mue and a known variance sigma^2.\n",
    "\n",
    "Consider testing the simple versus simple hypothesis.\n",
    "\n",
    "H0 : mu0 = 3\n",
    "\n",
    "H1 : mu1 = 5"
   ]
  },
  {
   "cell_type": "markdown",
   "metadata": {},
   "source": [
    "let alpha \n",
    "            \n",
    "            = P(Type 1 Error)\n",
    "            \n",
    "            = P(Reject H0 when its true)\n",
    "            \n",
    "            = P(Reject H0 when mu0 = 3"
   ]
  },
  {
   "cell_type": "markdown",
   "metadata": {},
   "source": [
    "**alpha is the level of significance of the test.**\n",
    "\n",
    "It is also sometimes reffered to as the size of the test.\n",
    "\n",
    "*Common choices for alpha are: .05, .01, and .1 (this would be 90%, 98% and 80% confidence intervals respectively.*"
   ]
  },
  {
   "cell_type": "markdown",
   "metadata": {},
   "source": [
    "- We are looking for evidence that H1 is true\n",
    "- The N(3, sgima^2) distribution takes on values from - infinity to infinity"
   ]
  },
  {
   "cell_type": "markdown",
   "metadata": {},
   "source": [
    "Reject H0, in favor of H1, if Xbar > c for some c to be determined\n",
    "- If c is too large, we are making it difficult to reject H0. (**Type 2 Error** -  we are more likely to fail to reject when it should be rejected)\n",
    "- If c is too small, we are making it too easy to reject H0. (**Type 1 Error** - We are more likely to reject when it should not be rejected)"
   ]
  },
  {
   "cell_type": "markdown",
   "metadata": {},
   "source": [
    "Example - x1, x2,.....,x10 iid N(mu, 4)\n",
    "\n",
    "Find a hypothesis test for:\n",
    "\n",
    "**H0 = mu0 = 5**  vs  **H1 = mu1 = 3**\n",
    "\n",
    "use level of significance alpha = .05"
   ]
  },
  {
   "cell_type": "code",
   "execution_count": 8,
   "metadata": {},
   "outputs": [],
   "source": [
    "n = 10\n",
    "mu0 = 5\n",
    "mu1 = 3\n",
    "s = sqrt(4)\n",
    "# level of significance alpha = .05 -- translates to a 90% confidence interval\n",
    "\n",
    "value = 1 - ((1 - .90) / 2) \n",
    "z = qnorm(value)\n",
    "moe = z * s / sqrt(n)\n",
    "\n",
    "cutoff = mu0 - moe"
   ]
  },
  {
   "cell_type": "code",
   "execution_count": 14,
   "metadata": {},
   "outputs": [
    {
     "data": {
      "text/html": [
       "3.9597"
      ],
      "text/latex": [
       "3.9597"
      ],
      "text/markdown": [
       "3.9597"
      ],
      "text/plain": [
       "[1] 3.9597"
      ]
     },
     "metadata": {},
     "output_type": "display_data"
    }
   ],
   "source": [
    "round(cutoff, 4)"
   ]
  },
  {
   "cell_type": "code",
   "execution_count": 10,
   "metadata": {},
   "outputs": [
    {
     "data": {
      "text/html": [
       "-1.64485362695147"
      ],
      "text/latex": [
       "-1.64485362695147"
      ],
      "text/markdown": [
       "-1.64485362695147"
      ],
      "text/plain": [
       "[1] -1.644854"
      ]
     },
     "metadata": {},
     "output_type": "display_data"
    }
   ],
   "source": [
    "-z"
   ]
  }
 ],
 "metadata": {
  "kernelspec": {
   "display_name": "R",
   "language": "R",
   "name": "ir"
  }
 },
 "nbformat": 4,
 "nbformat_minor": 4
}
