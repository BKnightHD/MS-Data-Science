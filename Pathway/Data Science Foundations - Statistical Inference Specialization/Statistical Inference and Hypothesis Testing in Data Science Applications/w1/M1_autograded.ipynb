{
 "cells": [
  {
   "cell_type": "markdown",
   "metadata": {
    "deletable": false,
    "editable": false,
    "nbgrader": {
     "cell_type": "markdown",
     "checksum": "4fb9f91702386d1d526c2bf6b0044294",
     "grade": false,
     "grade_id": "cell-0f1c87615a67ec45",
     "locked": true,
     "schema_version": 3,
     "solution": false,
     "task": false
    }
   },
   "source": [
    "# Module 1 Programming Assignment"
   ]
  },
  {
   "cell_type": "code",
   "execution_count": 2,
   "metadata": {
    "deletable": false,
    "editable": false,
    "nbgrader": {
     "cell_type": "code",
     "checksum": "a1c3d14f1426b68cae08af216d48f583",
     "grade": false,
     "grade_id": "cell-0159ecd3f75e986e",
     "locked": true,
     "schema_version": 3,
     "solution": false,
     "task": false
    }
   },
   "outputs": [],
   "source": [
    "# Load Required Libraries\n",
    "library(testthat)"
   ]
  },
  {
   "cell_type": "markdown",
   "metadata": {
    "deletable": false,
    "editable": false,
    "nbgrader": {
     "cell_type": "markdown",
     "checksum": "4663ea310474e7b4f35ec2f44e238dae",
     "grade": false,
     "grade_id": "cell-5ce3d59c5487d5fa",
     "locked": true,
     "schema_version": 3,
     "solution": false,
     "task": false
    }
   },
   "source": [
    "# Problem 1\n",
    "\n",
    "Your friend Chip claims to have psychic abilities, and \"superhuman predictive skills.\" To test this theory, you create an experiment with coins, where Chip guesses the result of the flip, then you flip the coin, and record whether he was right. Assume the coin is fair."
   ]
  },
  {
   "cell_type": "markdown",
   "metadata": {
    "deletable": false,
    "editable": false,
    "nbgrader": {
     "cell_type": "markdown",
     "checksum": "86708f446070c794907acd5127a34e85",
     "grade": false,
     "grade_id": "cell-6cfd737c6352f259",
     "locked": true,
     "schema_version": 3,
     "solution": false,
     "task": false
    }
   },
   "source": [
    "**Part A)** Let $p$ be the proportion of flips that are guessed correctly. From the list below, which null and alternative hypotheses are associated with Chip being **better** at predicting than a normal person? Save the interger of your selected answer into `p1.a`.\n",
    "\n",
    "1. $H_0: p=0, \\qquad H_1: p < 0$\n",
    "2. $H_0: p=0, \\qquad H_1: p>0$\n",
    "3. $H_0: p=1/2, \\qquad H_1: p > 1/2$\n",
    "4. $H_0: p=1/2, \\qquad H_1: p < 1/2$"
   ]
  },
  {
   "cell_type": "code",
   "execution_count": 3,
   "metadata": {
    "deletable": false,
    "nbgrader": {
     "cell_type": "code",
     "checksum": "dd0c8d44f3ee4dcd0acbe2d7e1ed0fe7",
     "grade": false,
     "grade_id": "cell-cc471673c0582a75",
     "locked": false,
     "schema_version": 3,
     "solution": true,
     "task": false
    }
   },
   "outputs": [],
   "source": [
    "p1.a = 3\n",
    "\n",
    "# your code here\n"
   ]
  },
  {
   "cell_type": "code",
   "execution_count": 4,
   "metadata": {
    "deletable": false,
    "editable": false,
    "nbgrader": {
     "cell_type": "code",
     "checksum": "e4fcb1f3a66bcee37a2503dcafef74e0",
     "grade": true,
     "grade_id": "cell-855696af9d80dde2",
     "locked": true,
     "points": 1,
     "schema_version": 3,
     "solution": false,
     "task": false
    }
   },
   "outputs": [],
   "source": [
    "# Hidden Test Cell\n",
    "# Note: Any cell marked with \"Hidden Test Cell\" contains tests that will check your answers.\n",
    "# You may or may not see these tests. If you do not see the tests, that means they are hidden.\n",
    "# You won't see the results of hidden tests until you submit your assignment."
   ]
  },
  {
   "cell_type": "markdown",
   "metadata": {
    "deletable": false,
    "editable": false,
    "nbgrader": {
     "cell_type": "markdown",
     "checksum": "d1da76c46487336d308a19124212f60a",
     "grade": false,
     "grade_id": "cell-2e5e6e135497f982",
     "locked": true,
     "schema_version": 3,
     "solution": false,
     "task": false
    }
   },
   "source": [
    "**Part B)** There are four possibilities for the result of the test:\n",
    "1. The test indicates that Chip is psychic, and in reality Chip is psychic.\n",
    "2. The test indicates that Chip is psychic, and in reality Chip is not psychic.\n",
    "3. The test indicates that Chip is not psychic, and in reality Chip is psychic.\n",
    "4. The test indicates that Chip is not psychic, and in reality Chip is not psychic.\n",
    "\n",
    "Each of these cases correspond to one of the following results:\n",
    "\n",
    "a. We correctly reject the null hypothesis.  \n",
    "b. We correctly fail to reject the null hypothesis.  \n",
    "c. We commit Type I error.  \n",
    "d. We commit Type II error.  \n",
    "\n",
    "Match the corresponding cases together into variables `p1.b.1`, `p1.b.2`, `p1.b.3` and `p1.b.4`. That is, if result $1$ matches with $a$, then your answer to `p1.b.1` would be `\"a\"` $\\rightarrow$ `p1.b.1=\"a\"`."
   ]
  },
  {
   "cell_type": "code",
   "execution_count": 44,
   "metadata": {
    "deletable": false,
    "nbgrader": {
     "cell_type": "code",
     "checksum": "dbbf8113c9a3fcc87b60609aa87ca4fc",
     "grade": false,
     "grade_id": "cell-c5003f3a28b3d7da",
     "locked": false,
     "schema_version": 3,
     "solution": true,
     "task": false
    }
   },
   "outputs": [],
   "source": [
    "p1.b.1 = \"a\"\n",
    "p1.b.2 = \"c\"\n",
    "p1.b.3 = \"d\"\n",
    "p1.b.4 = \"b\""
   ]
  },
  {
   "cell_type": "code",
   "execution_count": 45,
   "metadata": {
    "deletable": false,
    "editable": false,
    "nbgrader": {
     "cell_type": "code",
     "checksum": "e2d1f999cd4ad8f091eb885918f39a88",
     "grade": true,
     "grade_id": "cell-b3e143f8e84b993c",
     "locked": true,
     "points": 1,
     "schema_version": 3,
     "solution": false,
     "task": false
    }
   },
   "outputs": [
    {
     "ename": "ERROR",
     "evalue": "Error in test_that(\"Make sure your answers are strings!\", {: could not find function \"test_that\"\n",
     "output_type": "error",
     "traceback": [
      "Error in test_that(\"Make sure your answers are strings!\", {: could not find function \"test_that\"\nTraceback:\n"
     ]
    }
   ],
   "source": [
    "# Hidden Test Cell\n",
    "test_that(\"Make sure your answers are strings!\", {expect_is(p1.b.1, \"character\")\n",
    "                                                  expect_is(p1.b.2, \"character\")\n",
    "                                                  expect_is(p1.b.3, \"character\")\n",
    "                                                  expect_is(p1.b.4, \"character\")})"
   ]
  },
  {
   "cell_type": "code",
   "execution_count": 46,
   "metadata": {
    "deletable": false,
    "editable": false,
    "nbgrader": {
     "cell_type": "code",
     "checksum": "d0d6b1492113cd39e5df9898af12724a",
     "grade": true,
     "grade_id": "cell-4a2d80a47030b329",
     "locked": true,
     "points": 1,
     "schema_version": 3,
     "solution": false,
     "task": false
    }
   },
   "outputs": [],
   "source": [
    "# Hidden Test Cell"
   ]
  },
  {
   "cell_type": "code",
   "execution_count": 47,
   "metadata": {
    "deletable": false,
    "editable": false,
    "nbgrader": {
     "cell_type": "code",
     "checksum": "46a1ba9240c332e4ff08752c7d4e3bd9",
     "grade": true,
     "grade_id": "cell-59978345e77c9108",
     "locked": true,
     "points": 1,
     "schema_version": 3,
     "solution": false,
     "task": false
    }
   },
   "outputs": [],
   "source": [
    "# Hidden Test Cell"
   ]
  },
  {
   "cell_type": "code",
   "execution_count": 48,
   "metadata": {
    "deletable": false,
    "editable": false,
    "nbgrader": {
     "cell_type": "code",
     "checksum": "733cd6ebd2c49fe1bef6cd745bca74e6",
     "grade": true,
     "grade_id": "cell-fb743d0f24b1e539",
     "locked": true,
     "points": 1,
     "schema_version": 3,
     "solution": false,
     "task": false
    }
   },
   "outputs": [],
   "source": [
    "# Hidden Test Cell"
   ]
  },
  {
   "cell_type": "markdown",
   "metadata": {
    "deletable": false,
    "editable": false,
    "nbgrader": {
     "cell_type": "markdown",
     "checksum": "5e157b8a15b3ac15f0b4b6ed6aa0da83",
     "grade": false,
     "grade_id": "cell-a476f49337df3ddd",
     "locked": true,
     "schema_version": 3,
     "solution": false,
     "task": false
    }
   },
   "source": [
    "Keep this problem in mind, we will continue it in the next module!"
   ]
  },
  {
   "cell_type": "markdown",
   "metadata": {
    "deletable": false,
    "editable": false,
    "nbgrader": {
     "cell_type": "markdown",
     "checksum": "f06f74436fb7075cfb83a583a252e31b",
     "grade": false,
     "grade_id": "cell-f59140dfdd5d8258",
     "locked": true,
     "schema_version": 3,
     "solution": false,
     "task": false
    }
   },
   "source": [
    "# Problem 2\n",
    "\n",
    "The Normal distribution will become very important in the upcoming modules, so it's a good idea to review it now, and make sure we understand it before moving forward. As well, we can also review R's distribution functions."
   ]
  },
  {
   "cell_type": "markdown",
   "metadata": {
    "deletable": false,
    "editable": false,
    "nbgrader": {
     "cell_type": "markdown",
     "checksum": "26c8fb1887bab8a3422295f6b0936e21",
     "grade": false,
     "grade_id": "cell-637e5cbddb6b2b68",
     "locked": true,
     "schema_version": 3,
     "solution": false,
     "task": false
    }
   },
   "source": [
    "**Part A)** Suppose $X \\sim N(10, 4)$. What is $P(X \\le 9)$? Save your answer as `p2.CDF` and round your answer to two decimal places.  \n",
    "\n",
    "**Hint:** Use the `pnorm()` function. Be careful about the parameters!"
   ]
  },
  {
   "cell_type": "code",
   "execution_count": 54,
   "metadata": {},
   "outputs": [
    {
     "data": {
      "text/html": [
       "0.31"
      ],
      "text/latex": [
       "0.31"
      ],
      "text/markdown": [
       "0.31"
      ],
      "text/plain": [
       "[1] 0.31"
      ]
     },
     "metadata": {},
     "output_type": "display_data"
    }
   ],
   "source": [
    "round(pnorm(9, 10, sqrt(4)),2)"
   ]
  },
  {
   "cell_type": "code",
   "execution_count": 55,
   "metadata": {
    "deletable": false,
    "nbgrader": {
     "cell_type": "code",
     "checksum": "b9d7aa92fb9f19768f5003af4459c455",
     "grade": false,
     "grade_id": "cell-eece3268917c5e9b",
     "locked": false,
     "schema_version": 3,
     "solution": true,
     "task": false
    }
   },
   "outputs": [],
   "source": [
    "p2.CDF = round(pnorm(9, 10, sqrt(4)),2)\n",
    "# your code here"
   ]
  },
  {
   "cell_type": "code",
   "execution_count": 56,
   "metadata": {
    "deletable": false,
    "editable": false,
    "nbgrader": {
     "cell_type": "code",
     "checksum": "e0dafa550cc713a69404573521d9777f",
     "grade": true,
     "grade_id": "cell-200f7f6568f7d9dd",
     "locked": true,
     "points": 1,
     "schema_version": 3,
     "solution": false,
     "task": false
    }
   },
   "outputs": [],
   "source": [
    "# Hidden Test Cell"
   ]
  },
  {
   "cell_type": "markdown",
   "metadata": {
    "deletable": false,
    "editable": false,
    "nbgrader": {
     "cell_type": "markdown",
     "checksum": "bea3edaa4205f542229489d56976e93e",
     "grade": false,
     "grade_id": "cell-b8d904593359c78c",
     "locked": true,
     "schema_version": 3,
     "solution": false,
     "task": false
    }
   },
   "source": [
    "**Part B)** Given the same $X$ as in **Part A**, what is the value $k$ such that $P(X \\le k) = 0.75$? Save your answer as `p2.invCDF` and round your answer to two decimal places.\n",
    "\n",
    "**Hint:** Use the `qnorm()` function. Be careful with the parameters!"
   ]
  },
  {
   "cell_type": "code",
   "execution_count": 61,
   "metadata": {},
   "outputs": [
    {
     "data": {
      "text/html": [
       "11.35"
      ],
      "text/latex": [
       "11.35"
      ],
      "text/markdown": [
       "11.35"
      ],
      "text/plain": [
       "[1] 11.35"
      ]
     },
     "metadata": {},
     "output_type": "display_data"
    }
   ],
   "source": [
    "k = round(qnorm(.75, mean = 10, sd = sqrt(4), lower.tail = TRUE, log.p = FALSE), 2)\n",
    "k"
   ]
  },
  {
   "cell_type": "code",
   "execution_count": 62,
   "metadata": {},
   "outputs": [
    {
     "data": {
      "text/html": [
       "0.75"
      ],
      "text/latex": [
       "0.75"
      ],
      "text/markdown": [
       "0.75"
      ],
      "text/plain": [
       "[1] 0.75"
      ]
     },
     "metadata": {},
     "output_type": "display_data"
    }
   ],
   "source": [
    "number = round(pnorm(k, 10, sqrt(4)), 2)\n",
    "number"
   ]
  },
  {
   "cell_type": "code",
   "execution_count": 63,
   "metadata": {
    "deletable": false,
    "nbgrader": {
     "cell_type": "code",
     "checksum": "ecff73e957980acec6b953a75c07df6e",
     "grade": false,
     "grade_id": "cell-0ca9b2cf4038c6f6",
     "locked": false,
     "schema_version": 3,
     "solution": true,
     "task": false
    }
   },
   "outputs": [],
   "source": [
    "p2.invCDF = k\n",
    "\n",
    "# your code here\n"
   ]
  },
  {
   "cell_type": "code",
   "execution_count": 64,
   "metadata": {
    "deletable": false,
    "editable": false,
    "nbgrader": {
     "cell_type": "code",
     "checksum": "b9e3b207cee2892274704886eef4117e",
     "grade": true,
     "grade_id": "cell-e3f3ae490a51393c",
     "locked": true,
     "points": 1,
     "schema_version": 3,
     "solution": false,
     "task": false
    }
   },
   "outputs": [],
   "source": [
    "# Hidden Test Cell"
   ]
  },
  {
   "cell_type": "markdown",
   "metadata": {
    "deletable": false,
    "editable": false,
    "nbgrader": {
     "cell_type": "markdown",
     "checksum": "3bb38386e69a002b2705360a0e80bd09",
     "grade": false,
     "grade_id": "cell-ad340eb4a9d838da",
     "locked": true,
     "schema_version": 3,
     "solution": false,
     "task": false
    }
   },
   "source": [
    "**Part C)** Convert $X$ to a standard normal random variable $Z \\sim N(0, 1)$ and calculate the values for **Part A** and **Part B** again, but using the transformed random variable. Save your answers as `p2.c.CDF` and `p2.c.invCDF` and round your answers to two decimal places. What do you notice?\n",
    "\n",
    "Note that transforming $X$ will also transform the values within each equality. That is, the $9$ from **Part A** will be transformed to $y$, and you must solve for $P(Z \\le y)$. Likewise, the $k$ from **Part B** will be transformed to $\\ell$, and you must solve for $\\ell$ such that $P(Z \\le \\ell)=0.75$."
   ]
  },
  {
   "cell_type": "markdown",
   "metadata": {},
   "source": [
    "To convert this to a standard normal distribution, you need to standardize the variable Z = X - mu / SD ... \n",
    "\n",
    "Subtract the mean mu from r.v X and divide by the standard deviation.\n",
    "\n",
    "In our preveious example:\n",
    "mu = 10\n",
    "sd = 4\n",
    "we wanted to find the probability X was less than or equal to 9.\n",
    "\n",
    "Z = (9 - 10) / 4 = -.25"
   ]
  },
  {
   "cell_type": "code",
   "execution_count": 74,
   "metadata": {},
   "outputs": [
    {
     "data": {
      "text/html": [
       "-0.5"
      ],
      "text/latex": [
       "-0.5"
      ],
      "text/markdown": [
       "-0.5"
      ],
      "text/plain": [
       "[1] -0.5"
      ]
     },
     "metadata": {},
     "output_type": "display_data"
    },
    {
     "data": {
      "text/html": [
       "0.31"
      ],
      "text/latex": [
       "0.31"
      ],
      "text/markdown": [
       "0.31"
      ],
      "text/plain": [
       "[1] 0.31"
      ]
     },
     "metadata": {},
     "output_type": "display_data"
    }
   ],
   "source": [
    "pvalue = (9-10)/ sqrt(4)\n",
    "pvalue\n",
    "p = pnorm(pvalue)\n",
    "round(p, 2)"
   ]
  },
  {
   "cell_type": "code",
   "execution_count": 66,
   "metadata": {
    "deletable": false,
    "nbgrader": {
     "cell_type": "code",
     "checksum": "c3f2b6493adc770b9cb40088703f3737",
     "grade": false,
     "grade_id": "cell-9fc957f88f04e381",
     "locked": false,
     "schema_version": 3,
     "solution": true,
     "task": false
    }
   },
   "outputs": [],
   "source": [
    "p2.c.CDF = p\n",
    "p2.c.invCDF = NA\n",
    "\n",
    "# your code here\n"
   ]
  },
  {
   "cell_type": "code",
   "execution_count": null,
   "metadata": {
    "deletable": false,
    "editable": false,
    "nbgrader": {
     "cell_type": "code",
     "checksum": "75f358986566683c4f4800f0c1522cc6",
     "grade": true,
     "grade_id": "cell-de4effe38ef4ac96",
     "locked": true,
     "points": 1,
     "schema_version": 3,
     "solution": false,
     "task": false
    }
   },
   "outputs": [],
   "source": [
    "# Hidden Test Cell"
   ]
  },
  {
   "cell_type": "markdown",
   "metadata": {
    "deletable": false,
    "editable": false,
    "nbgrader": {
     "cell_type": "markdown",
     "checksum": "51a508f4f561ba0f38f7e811b87a38f4",
     "grade": false,
     "grade_id": "cell-788bf8b8d508fff1",
     "locked": true,
     "schema_version": 3,
     "solution": false,
     "task": false
    }
   },
   "source": [
    "**Part D)** Suppose $X_1, \\dots, X_8 \\stackrel{\\text{iid}}{\\sim} N(14, 4)$. What is $P(\\bar{X} \\ge 14.5)$? Save your answer as `p2.d` and round your answer to two decimal places."
   ]
  },
  {
   "cell_type": "code",
   "execution_count": null,
   "metadata": {
    "deletable": false,
    "nbgrader": {
     "cell_type": "code",
     "checksum": "79ffbeeb2b7f5599942240036b7e9478",
     "grade": false,
     "grade_id": "cell-93a0c33b747ee1aa",
     "locked": false,
     "schema_version": 3,
     "solution": true,
     "task": false
    }
   },
   "outputs": [],
   "source": [
    "p2.d = .24\n",
    "\n",
    "# your code here\n"
   ]
  },
  {
   "cell_type": "code",
   "execution_count": null,
   "metadata": {
    "deletable": false,
    "editable": false,
    "nbgrader": {
     "cell_type": "code",
     "checksum": "12bd3f0f37aee8d37f06d16f638bc1ca",
     "grade": true,
     "grade_id": "cell-a50ff6fd0fbfb878",
     "locked": true,
     "points": 1,
     "schema_version": 3,
     "solution": false,
     "task": false
    }
   },
   "outputs": [],
   "source": [
    "# Hidden Test Cell"
   ]
  },
  {
   "cell_type": "markdown",
   "metadata": {
    "deletable": false,
    "editable": false,
    "nbgrader": {
     "cell_type": "markdown",
     "checksum": "ff922583c5ff53e3dce09d52209f204e",
     "grade": false,
     "grade_id": "cell-c81fba190bc00c6f",
     "locked": true,
     "schema_version": 3,
     "solution": false,
     "task": false
    }
   },
   "source": [
    "**Part E)** There are two distribution functions that we haven't used yet: `dnorm()` and `rnorm()`. So let's use them!\n",
    "\n",
    "Generate 500 samples from a standard normal distribution (Hint: Use `rnorm()` to sample these values) and plot a histogram of their values. Make sure your histogram is displaying densities, not frequencies. Then use the `lines()` function to plot the PDF of the standard normal (Hint: Use `dnorm()` to get the PDF) ontop of the histogram. Save your histogram as `p2.hist`."
   ]
  },
  {
   "cell_type": "code",
   "execution_count": 90,
   "metadata": {
    "deletable": false,
    "nbgrader": {
     "cell_type": "code",
     "checksum": "9057180b3bb6e9e598c319d0f8819146",
     "grade": false,
     "grade_id": "cell-a423b61d429764f6",
     "locked": false,
     "schema_version": 3,
     "solution": true,
     "task": false
    }
   },
   "outputs": [
    {
     "data": {
      "image/png": "[encoded data removed]",
      "text/plain": [
       "Plot with title “Histogram of data”"
      ]
     },
     "metadata": {
      "image/png": {
       "height": 420,
       "width": 420
      },
      "text/plain": {
       "height": 420,
       "width": 420
      }
     },
     "output_type": "display_data"
    }
   ],
   "source": [
    "p2.hist = NA\n",
    "\n",
    "# your code here\n",
    "set.seed(100)\n",
    "# generate 500 samples from the normal distribution \n",
    "data = rnorm(500)\n",
    "\n",
    "# Plot a histogram of their values\n",
    "p2.hist = hist(data,freq=FALSE)\n",
    "\n",
    "x <- seq(-5, 5, length=100000)\n",
    "lines(x, dnorm(x))"
   ]
  },
  {
   "cell_type": "code",
   "execution_count": null,
   "metadata": {
    "deletable": false,
    "editable": false,
    "nbgrader": {
     "cell_type": "code",
     "checksum": "1d804fcef7b5d3dd2d3b97ce81c8f026",
     "grade": true,
     "grade_id": "cell-3c47d7a5766838c5",
     "locked": true,
     "points": 1,
     "schema_version": 3,
     "solution": false,
     "task": false
    }
   },
   "outputs": [],
   "source": [
    "# Hidden Test Cell"
   ]
  },
  {
   "cell_type": "markdown",
   "metadata": {
    "deletable": false,
    "editable": false,
    "nbgrader": {
     "cell_type": "markdown",
     "checksum": "50882c8a25e0524524224631e552e919",
     "grade": false,
     "grade_id": "cell-f97fdfc7447ed5ad",
     "locked": true,
     "schema_version": 3,
     "solution": false,
     "task": false
    }
   },
   "source": [
    "# Problem 3\n",
    "\n",
    "Over the last few weeks, you have gone birdwatching at your local park and recording the number of distinct bird species that you saw each day. Your recorded counts where $(11, 6, 10, 7, 6, 9, 12, 11, 11)$. However, when walking through the park, you found a sign which stated that visitors should only expect to see 8 bird species each day.\n",
    "\n",
    "Use hypothesis testing to determine whether this claim is accurate, based on the data you've seen. Use a significance level of $\\alpha =0.05$. Assume all random variables are normally distributed, and that the true standard deviation of bird species is $2$. Save `TRUE` into `p3` if you reject the null hypothesis, and `FALSE` if you fail to reject the null hypothesis."
   ]
  },
  {
   "cell_type": "code",
   "execution_count": 87,
   "metadata": {
    "deletable": false,
    "nbgrader": {
     "cell_type": "code",
     "checksum": "fc8ac3f3cb3fc66742489bf8b310deca",
     "grade": false,
     "grade_id": "cell-0c7f981fdbf2b7a9",
     "locked": false,
     "schema_version": 3,
     "solution": true,
     "task": false
    }
   },
   "outputs": [
    {
     "data": {
      "text/html": [
       "8.85"
      ],
      "text/latex": [
       "8.85"
      ],
      "text/markdown": [
       "8.85"
      ],
      "text/plain": [
       "[1] 8.85"
      ]
     },
     "metadata": {},
     "output_type": "display_data"
    }
   ],
   "source": [
    "p3 = TRUE\n",
    "alpha = 0.05\n",
    "bird.counts = c(11, 6, 10, 7, 6, 9, 12, 11, 11)\n",
    "\n",
    "xbar = round(mean(bird.counts), 2)\n",
    "mu0 = 8\n",
    "n = length(bird.counts)\n",
    "s = 2\n",
    "# alpha equals .05 tranlates to a 90% confidence interval\n",
    "value = 1 - ((1-.9) / 2)\n",
    "z = qnorm(value)\n",
    "moe = z * s / n\n",
    "\n",
    "cutoff = xbar - moe\n",
    "round(cutoff, 2)"
   ]
  },
  {
   "cell_type": "code",
   "execution_count": null,
   "metadata": {
    "deletable": false,
    "editable": false,
    "nbgrader": {
     "cell_type": "code",
     "checksum": "c53703e1b99057c0c720d7e3c981faec",
     "grade": true,
     "grade_id": "cell-afa9cbac23d1a9a2",
     "locked": true,
     "points": 1,
     "schema_version": 3,
     "solution": false,
     "task": false
    }
   },
   "outputs": [],
   "source": [
    "# Hidden Test Cell"
   ]
  }
 ],
 "metadata": {
  "kernelspec": {
   "display_name": "R",
   "language": "R",
   "name": "ir"
  },
  "language_info": {
   "codemirror_mode": "r",
   "file_extension": ".r",
   "mimetype": "text/x-r-source",
   "name": "R",
   "pygments_lexer": "r",
   "version": "3.6.3"
  }
 },
 "nbformat": 4,
 "nbformat_minor": 4
}
