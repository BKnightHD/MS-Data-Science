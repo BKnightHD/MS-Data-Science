{
 "cells": [
  {
   "cell_type": "markdown",
   "id": "62b70f94-3699-41ab-8019-20126b5a7793",
   "metadata": {},
   "source": [
    "About the Final Exam\n",
    "\n",
    "    The exam is proctored. You will need to arrange for a time to take the proctored exam.\n",
    "\n",
    "    It is a one-hour exam. \n",
    "\n",
    "    You may submit your answers only once.\n",
    "\n",
    "    The exam contains only multi-choice questions. \n",
    "\n",
    "    There are no programming questions in the exam. \n",
    "\n",
    "    You are not allowed to use any notes or access other websites when you take your exam. \n",
    "\n",
    "    The exam tests conceptual understanding of the course materials. There is no need to memorize formulas. "
   ]
  },
  {
   "cell_type": "markdown",
   "id": "d618f91b-ff88-48da-8e79-50df439be49a",
   "metadata": {},
   "source": [
    "# 20 Questions - Multiple choice"
   ]
  },
  {
   "cell_type": "markdown",
   "id": "51701531-0d12-4902-b01e-265cd61b9cc9",
   "metadata": {},
   "source": [
    "wk1. \n",
    "- what is data mining\n",
    "- four views: \n",
    "    - data\n",
    "    - applications\n",
    "    - knowledge \n",
    "    - technique\n",
    "\n",
    "- the V's\n",
    "    - volume\n",
    "    - variety\n",
    "    - velocity\n",
    "    - veracity - quality of data\n",
    "    - value - bring value from Data"
   ]
  },
  {
   "cell_type": "markdown",
   "id": "25ceac84",
   "metadata": {},
   "source": []
  }
 ],
 "metadata": {
  "kernelspec": {
   "display_name": "Python 3 (ipykernel)",
   "language": "python",
   "name": "python3"
  },
  "language_info": {
   "codemirror_mode": {
    "name": "ipython",
    "version": 3
   },
   "file_extension": ".py",
   "mimetype": "text/x-python",
   "name": "python",
   "nbconvert_exporter": "python",
   "pygments_lexer": "ipython3",
   "version": "3.8.18"
  }
 },
 "nbformat": 4,
 "nbformat_minor": 5
}
