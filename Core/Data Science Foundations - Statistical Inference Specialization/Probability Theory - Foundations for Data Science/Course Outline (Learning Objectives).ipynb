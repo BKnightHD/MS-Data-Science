{
 "cells": [
  {
   "cell_type": "markdown",
   "id": "dabb90fa",
   "metadata": {},
   "source": [
    "Week 1\n",
    "1. Introduction to probability (book)\n",
    "    - Sets\n",
    "    - Naive Probabilities\n",
    "    - Sampling Table\n",
    "    - Story Proofs\n",
    "    - Symmetry\n",
    "    \n",
    "2. Axioms of Probability\n",
    "3. Counting: Permutations and Combinations\n"
   ]
  },
  {
   "cell_type": "markdown",
   "id": "bab47c19",
   "metadata": {},
   "source": [
    "Week 2\n",
    "1. Conditional Probability\n",
    "    - Conditional Probability\n",
    "    - The Birthday Problem\n",
    "    - Monty Hall\n",
    "    - Gambler’s Ruin\n",
    "    - Introduction to Random Variables\n",
    "        - Properties of Random Variables\n",
    "        - Binomial\n",
    "        \n",
    "2. Independent Events"
   ]
  },
  {
   "cell_type": "markdown",
   "id": "79351617",
   "metadata": {},
   "source": [
    "Week 3\n",
    "1. Discrete Random Variables\n",
    "    - Random Variable Recap\n",
    "    - Bernoulli\n",
    "    - Geometric\n",
    "    - First Success\n",
    "    - Negative Binomial\n",
    "    - Poisson\n",
    "    - Hypergeometric\n",
    "    - Expectation, Indicators and Memorylessness\n",
    "        - Expectation\n",
    "        - Indicators\n",
    "        - Memorylessness\n",
    "        \n",
    "2. Bernoulli and Geometric Random Variables\n",
    "3. Expectation and Variance\n",
    "4. Binomial and Negative Binomial Random Variables"
   ]
  },
  {
   "cell_type": "markdown",
   "id": "57cf117f",
   "metadata": {},
   "source": [
    "week 4\n",
    "1. Continuous Random Variables\n",
    "    - Discrete vs. Continuous\n",
    "    - LoTUS\n",
    "    - Uniform\n",
    "        - Universality\n",
    "    - Normal\n",
    "    - Exponential\n",
    "    \n",
    "2. Normal Random Variable\n",
    "3. The Gaussian (normal) Random Variable \n",
    "4. The Poisson and Exponential Random Variables"
   ]
  },
  {
   "cell_type": "markdown",
   "id": "7c8a04e7",
   "metadata": {},
   "source": [
    "Week 5\n",
    "1. Covariance and Correlation\n",
    "2. More on Expectation and Variance\n",
    "3. Jointly Distributed Random Variables"
   ]
  },
  {
   "cell_type": "markdown",
   "id": "396a9278",
   "metadata": {},
   "source": [
    "Week 6\n",
    "1. Limit Theorems and Conditional Expectation\n",
    "    - Law of Large Numbers\n",
    "    - Central Limit Theorem\n",
    "    - Conditional Expectation\n",
    "    - Adam and Eve\n"
   ]
  },
  {
   "cell_type": "code",
   "execution_count": null,
   "id": "29d915b9",
   "metadata": {},
   "outputs": [],
   "source": []
  }
 ],
 "metadata": {
  "kernelspec": {
   "display_name": "Python 3 (ipykernel)",
   "language": "python",
   "name": "python3"
  },
  "language_info": {
   "codemirror_mode": {
    "name": "ipython",
    "version": 3
   },
   "file_extension": ".py",
   "mimetype": "text/x-python",
   "name": "python",
   "nbconvert_exporter": "python",
   "pygments_lexer": "ipython3",
   "version": "3.9.12"
  }
 },
 "nbformat": 4,
 "nbformat_minor": 5
}
