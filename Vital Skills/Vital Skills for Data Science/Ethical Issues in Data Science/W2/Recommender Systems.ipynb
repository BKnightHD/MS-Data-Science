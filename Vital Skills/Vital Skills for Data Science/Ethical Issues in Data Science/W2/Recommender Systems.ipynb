{
 "cells": [
  {
   "cell_type": "markdown",
   "id": "41ac5717",
   "metadata": {},
   "source": [
    "Select one ethical framework (your choice) and write on the discussion board whether you think this framework supports or does not support the use of recommender systems to feed you more YouTube content (songs) and with that, more advertisements.   If you prefer to comment on the case where recommender systems suggest political content as discussed by Tufecki, rather than on musical content that is fine too.   \n",
    "\n",
    "Then please read at least one comment by another student and optionally, provide a reaction to that comment.\n",
    "\n",
    "Please note: if you decide to upgrade your enrollment in this course to receive credit in CU’ Boulder’s MS-DS program, you will lose access to the discussion posts you submitted in the non-credit version. Since you will need your old discussion posts in order to complete the final assignment, we suggest that you save your discussion responses in a separate document so that you will still have access to them should you decide to upgrade your enrollment to the for-credit version of the course. Thank you!"
   ]
  }
 ],
 "metadata": {
  "kernelspec": {
   "display_name": "Python 3 (ipykernel)",
   "language": "python",
   "name": "python3"
  },
  "language_info": {
   "codemirror_mode": {
    "name": "ipython",
    "version": 3
   },
   "file_extension": ".py",
   "mimetype": "text/x-python",
   "name": "python",
   "nbconvert_exporter": "python",
   "pygments_lexer": "ipython3",
   "version": "3.9.12"
  }
 },
 "nbformat": 4,
 "nbformat_minor": 5
}
