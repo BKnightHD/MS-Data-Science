{
 "cells": [
  {
   "cell_type": "markdown",
   "id": "4e13051b",
   "metadata": {},
   "source": [
    "Please read the following for this lesson: \n",
    "\n",
    "Zeynep Tufekci. We're building a dystopia just to make people click on ads. TED Talk – listen to at least the first 10:30 (out of 23).    You can either do this before the lesson, or during – there is a link at the appropriate spot.\n",
    "\n",
    "https://www.ted.com/talks/zeynep_tufekci_we_re_building_a_dystopia_just_to_make_people_click_on_ads?language=en\n",
    "\n",
    "Superhuman (recent email product), privacy issues, and company response:\n",
    "\n",
    "https://www.newyorker.com/tech/annals-of-technology/what-the-superhuman-controversy-reveals-about-the-shifting-ethics-of-software?utm_campaign=the_download.unpaid.engagement&utm_source=hs_email&utm_medium=email&utm_content=74731923&_hsenc=p2ANqtz-_PJ-QV2zT_5H2K0O6JBNZuuq88vIbyG_RLjk-3lrBX7a66MCX4g3yCtGi9LO3i-Y8SdJs8l62EQqa2XxXBpGr_T4qgS-CjYIr_FMdGy2R_GAyubJo&_hsmi=74731923\n",
    "    \n",
    "https://gizmodo.com/superhuman-silicon-valleys-hottest-email-app-kills-tr-1836093908\n",
    "\n",
    "The Right to be Forgotten – fairly long article, fine to read about first 1/3 and skim the remainder (but please at least do that)\n",
    "\n",
    "https://www.newyorker.com/magazine/2014/09/29/solace-oblivion"
   ]
  },
  {
   "cell_type": "code",
   "execution_count": null,
   "id": "3552417f",
   "metadata": {},
   "outputs": [],
   "source": []
  }
 ],
 "metadata": {
  "kernelspec": {
   "display_name": "Python 3 (ipykernel)",
   "language": "python",
   "name": "python3"
  },
  "language_info": {
   "codemirror_mode": {
    "name": "ipython",
    "version": 3
   },
   "file_extension": ".py",
   "mimetype": "text/x-python",
   "name": "python",
   "nbconvert_exporter": "python",
   "pygments_lexer": "ipython3",
   "version": "3.9.12"
  }
 },
 "nbformat": 4,
 "nbformat_minor": 5
}
