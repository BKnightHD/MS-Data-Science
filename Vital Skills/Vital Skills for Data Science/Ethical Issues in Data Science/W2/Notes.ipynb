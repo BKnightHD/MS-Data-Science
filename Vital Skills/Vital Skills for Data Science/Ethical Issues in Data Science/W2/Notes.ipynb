{
 "cells": [
  {
   "cell_type": "markdown",
   "id": "adb1252f",
   "metadata": {},
   "source": [
    "# What the Superhuman Controversy Reveals About the Shifting Ethics of Software\n",
    "\n",
    "https://www.newyorker.com/tech/annals-of-technology/what-the-superhuman-controversy-reveals-about-the-shifting-ethics-of-software?utm_campaign=the_download.unpaid.engagement&utm_source=hs_email&utm_medium=email&utm_content=74731923&_hsmi=74731923\n",
    "\n",
    "Pixel-tracking wasn’t invented by Superhuman. It has existed for years; the potential for it is built into the way images work online. On the Web, all digital images are stored on servers. When a Web browser loads an image, it requests it from its original host server. In the process, it reveals information about itself, including its I.P. address. Using that address, it’s trivially easy to find information about the computer on which the browser is running—its city, region, and country.\n",
    "\n",
    "As text-only e-mail gave way to image-rich e-mail, marketers quickly discovered how useful this property of online images could be. The use of image-based “Web beacons” proliferated. Images used for tracking are deliberately hard to detect—often just a single, transparent pixel in size. They are deployed on Web sites and in advertisements and e-mail; Amazon, Facebook, Google, and many other companies use tracking pixels to follow their users from site to site. While some e-mail clients, including Gmail, allow users to disable automatic image-loading, most load them automatically, making it difficult for recipients to opt out.\n",
    "\n",
    "All of this seems familiar; these days, the ritualized trading of revelation and apology is commonplace in the software industry. \n",
    "\n",
    "At issue, ultimately, is the ethical question of what makes software “good.” The qualities of good software include seamlessness, efficiency, speed, simplicity, and straightforward user-experience design. Failing to maximize these values may feel, for a software engineer, like driving a Ferrari below the speed limit—a violation of the spirit of the enterprise.\n",
    "\n",
    "The defense of technologies like pixel-tracking has long been that they are designed to operate at scale, where they are said to be harmless. But technologies that are useful and morally permissible in that context may be harmful and unethical at the ordinary, human level. The question then is how and when to scale them back.\n",
    " \n",
    " "
   ]
  },
  {
   "cell_type": "markdown",
   "id": "c53b7bf0",
   "metadata": {},
   "source": [
    "# The Solace of Oblivion\n",
    "\n",
    "https://www.newyorker.com/magazine/2014/09/29/solace-oblivion\n",
    "\n",
    "In recent years, many people have made the same kind of effort, from actors who don’t want their private photographs in broad circulation to ex-convicts who don’t want their long-ago legal troubles to prevent them from finding jobs. Despite the varied circumstances, all these people want something that does not exist in the United States: the right to be forgotten.\n",
    "\n",
    "The situation is different in Europe, thanks to a court case that was decided earlier this year. In 1998, a Spanish newspaper called La Vanguardia published two small notices stating that certain property owned by a lawyer named Mario Costeja González was going to be auctioned to pay off his debts. Costeja cleared up the financial difficulties, but the newspaper records continued to surface whenever anyone Googled his name. In 2010, Costeja went to Spanish authorities to demand that the newspaper remove the items from its Web site and that Google remove the links from searches for his name. The Spanish Data Protection Agency, which is the local representative of a Continent-wide network of computer-privacy regulators, denied the claim against La Vanguardia but granted the claim against Google. This spring, the European Court of Justice, which operates as a kind of Supreme Court for the twenty-eight members of the European Union, affirmed the Spanish agency’s decisions. La Vanguardia could leave the Costeja items up on its Web site, but Google was prohibited from linking to them on any searches relating to Costeja’s name. The Court went on to say, in a broadly worded directive, that all individuals in the countries within its jurisdiction had the right to prohibit Google from linking to items that were “inadequate, irrelevant or no longer relevant, or excessive in relation to the purposes for which they were processed and in the light of the time that has elapsed.”\n",
    "\n",
    "At the same time, the Court’s decision spoke to an anxiety felt keenly on both sides of the Atlantic. In Europe, the right to privacy trumps freedom of speech; the reverse is true in the United States. “Europeans think of the right to privacy as a fundamental human right, in the way that we think of freedom of expression or the right to counsel,” Jennifer Granick, the director of civil liberties at the Stanford Center for Internet and Society, said recently. “When it comes to privacy, the United States’ approach has been to provide protection for certain categories of information that are deemed sensitive and then impose some obligation not to disclose unless certain conditions are met.” Congress has passed laws prohibiting the disclosure of medical information (the Health Insurance Portability and Accountability Act), educational records (the Buckley Amendment), and video-store rentals (a law passed in response to revelations about Robert Bork’s rentals when he was nominated to the Supreme Court). Any of these protections can be overridden with the consent of the individual or as part of law-enforcement investigations.\n",
    "\n",
    "The American regard for freedom of speech, reflected in the First Amendment, guarantees that the Costeja judgment would never pass muster under U.S. law. The Costeja records were public, and they were reported correctly by the newspaper at the time; constitutionally, the press has a nearly absolute right to publish accurate, lawful information. (Recently, an attorney in Texas, who had successfully fought a disciplinary judgment by the local bar association, persuaded a trial court to order Google to delete links on the subject; Google won a reversal in an appellate court.) “The Costeja decision is clearly inconsistent with U.S. law,” Granick said. “So the question is whether it’s good policy.”\n",
    "\n"
   ]
  },
  {
   "cell_type": "markdown",
   "id": "1f90626d",
   "metadata": {},
   "source": [
    "# A series of delays and major errors led to massive Equifax breach\n",
    "\n",
    "https://arstechnica.com/information-technology/2017/10/a-series-of-delays-and-major-errors-led-to-massive-equifax-breach/\n",
    "\n",
    "A series of costly delays and crucial errors caused Equifax to remain unprotected for months against one of the most severe Web application vulnerabilities in years, the former CEO for the credit reporting service said in written testimony investigating the massive breach that exposed sensitive data for as many as 143 million US Consumers.\n",
    "\n",
    "Equifax said last month that the still-unidentified attackers gained an initial hold in the network by exploiting the critical Apache Struts vulnerability. \n",
    "\n",
    "As Ars reported on March 9, attackers were already actively exploiting the critical Apache Struts bug. Although a patch for the code-execution flaw was available during the first week of March, Equifax administrators didn't apply it until July 29, when it first learned of the breach. Smith said that Equifax received an advisory from the US Department of Homeland Security on March 8. \n",
    "\n",
    "Equifax has said the data exposed in the breach included names, Social Security numbers, birth dates, and addresses for as many as 143 million people and, in some instances, driver's license numbers. The exposed data also included credit card data for about 209,000 consumers and dispute documents with personally identifying information for about 182,000 consumers."
   ]
  },
  {
   "cell_type": "markdown",
   "id": "6a389db3",
   "metadata": {},
   "source": [
    "# Capital One data breach tied to cloud computing vulnerability\n",
    "\n",
    "https://www.washingtontimes.com/news/2019/jul/30/capital-one-data-breach-tied-to-cloud-computing-vu/\n",
    "\n",
    "Capital One’s data breach has turned attention to an often-overlooked vulnerability in securing online information: cloud computing.\n",
    "\n",
    "According to authorities, the hacking suspect didn’t directly breach the financial institution’s networks but exploited a weakness in the firewall of a cloud computing firm used by Capital One to store its vast amounts of data.\n",
    "\n",
    "The largest “clouds” are run by the likes of Amazon, Microsoft and Google, and store data on hard drives. While this increases the free flow of data, it also expands the potential of hackers to loot data.\n",
    "\n",
    "According to Sean Roche, associate deputy director of the CIA’s Digital Innovation Directorate, “the cloud on its weakest day is more secure than a client service solution.”\n",
    "\n",
    "Other major breaches of late include Marriott hotels, where hackers accessed the information of an estimated 500 million customers. Google, T-Mobile, Quora, Orbitz, Equifax and Facebook also have dealt with major breaches.\n",
    "\n",
    "The Capital One incident has turned attention to the massive Amazon Web Services (AWS), which was used to store the bank’s sensitive information. Amazon is a finalist for the Pentagon JEDI contract.\n",
    "\n",
    "So far, Amazon has avoided being implicated as liable, with Capital One admitting the data was stolen via “a misconfigured security firewall.”"
   ]
  },
  {
   "cell_type": "markdown",
   "id": "8da6afd2",
   "metadata": {},
   "source": [
    "# Russian hackers are infiltrating companies via the office printer\n",
    "\n",
    "https://www.technologyreview.com/2019/08/05/133880/russian-hackers-fancy-bear-strontium-infiltrate-iot-networks-microsoft-report/\n",
    "\n",
    "A group of hackers linked to Russian spy agencies are using \"internet of things\" devices like internet-connected phones and printers to break into corporate networks, Microsoft announced on Monday.\n",
    "\n",
    "Insecurity of Things: The new campaign from GRU compromised popular internet of things devices including a VOIP (voice over internet protocol) phone, a connected office printer, and a video decoder in order to gain access to corporate networks. Microsoft has some of the best visibility into corporate networks on earth because so many organizations are using Windows machines. Microsoft’s Threat Intelligence Center spotted Fancy Bear’s new work starting in April 2019.\n",
    "\n",
    "In multiple cases, Microsoft saw Fancy Bear get access to targeted networks because the IoT devices were deployed with default passwords. In another case, the latest security update was not applied. Using those devices as a starting point, the hackers established a beachhead and looked for further access. \n",
    "\n",
    "“Once the actor had successfully established access to the network, a simple network scan to look for other insecure devices allowed them to discover and move across the network in search of higher-privileged accounts that would grant access to higher-value data,” Microsoft warned in a blog post published on Monday. \n",
    "\n",
    "The hackers moved from one device to another, establishing persistence and mapping the network as they went, communicating with command and control servers all the while.\n",
    "\n",
    "Last year, the FBI took disruptive action against a Fancy Bear campaign known as “VPNFilter” which targeted routers and network storage devices with malware with destructive capabilities of “bricking” a device by deleting firmware and rendering the device unusable. That campaign especially targeted Ukraine, a favorite target of Fancy Bear."
   ]
  },
  {
   "cell_type": "markdown",
   "id": "756cf8c5",
   "metadata": {},
   "source": [
    "# US issues hacking security alert for small planes\n",
    "\n",
    "https://apnews.com/article/6219f26c3ea145b6b29b5e69115504a9\n",
    "\n",
    "WASHINGTON (AP) — The Department of Homeland Security issued a security alert Tuesday for small planes, warning that modern flight systems are vulnerable to hacking if someone manages to gain physical access to the aircraft.\n",
    "\n",
    "An alert from the DHS critical infrastructure computer emergency response team recommends that plane owners ensure they restrict unauthorized physical access to their aircraft until the industry develops safeguards to address the issue, which was discovered by a Boston-based cybersecurity company and reported to the federal government\n",
    "\n",
    "The cybersecurity firm, Rapid7, found that an attacker could potentially disrupt electronic messages transmitted across a small plane’s network, for example by attaching a small device to its wiring, that would affect aircraft systems.\n",
    "\n",
    "Engine readings, compass data, altitude and other readings “could all be manipulated to provide false measurements to the pilot,” according to the DHS alert.\n",
    "\n",
    "The Rapid7 report focused only on small aircraft because their systems are easier for researchers to acquire. Large aircraft frequently use more complex systems and must meet additional security requirements. The DHS alert does not apply to older small planes with mechanical control systems.\n",
    "\n",
    "But Patrick Kiley, Rapid7’s lead researcher on the issue, said an attacker could exploit the vulnerability with access to a plane or by bypassing airport security.\n",
    "\n",
    "The vulnerability disclosure report is the product of nearly two years of work by Rapid7. After their researchers assessed the flaw, the company alerted DHS. Tuesday’s DHS alert recommends manufacturers review how they implement these open electronics systems known as “the CAN bus” to limit a hacker’s ability to perform such an attack.\n",
    "\n",
    "The CAN bus functions like a small plane’s central nervous system. Targeting it could allow an attacker to stealthily hijack a pilot’s instrument readings or even take control of the plane, according to the Rapid7 report obtained by The AP.\n",
    "\n",
    "“CAN bus is completely insecure,” said Chris King, a cybersecurity expert who has worked on vulnerability analysis of large-scale systems. “It was never designed to be in an adversarial environment, (so there’s) no validation” that what the system is being told to do is coming from a legitimate source.\n",
    "\n",
    "The CAN bus networking scheme was developed in the 1980s and is extremely popular for use in boats, drones, spacecraft, planes and cars — all areas where there’s more noise interference and it’s advantageous to have less wiring. It’s actually increasingly used in airplanes today due to the ease and cost of implementation, Kiley said.\n",
    "\n",
    "Given that airplanes have a longer manufacturing cycle, “what we’re trying to do is get out ahead of this.”\n",
    "\n",
    "The report didn’t name the vendors Rapid7 tested, but the company alerted them over a year ago, the report states.\n",
    "\n",
    "\n",
    "\n"
   ]
  },
  {
   "cell_type": "markdown",
   "id": "a7c0be04",
   "metadata": {},
   "source": [
    "# 22 Texas Towns Hit With Ransomware Attack In 'New Front' Of Cyberassault\n",
    "\n",
    "https://www.npr.org/2019/08/20/752695554/23-texas-towns-hit-with-ransomware-attack-in-new-front-of-cyberassault\n",
    "\n",
    "Texas is the latest state to be hit with a cyberattack, with state officials confirming this week that computer systems in 22 municipalities have been infiltrated by hackers demanding a ransom. A mayor of one of those cities said the attackers are asking for $2.5 million to unlock the files. \n",
    "\n",
    "Keene, Texas, a city of some 6,100 people outside Fort Worth, was also hit, officials announced. The city's government is also unable to process utility payments. \n",
    "\n",
    "\"Well, just about everything we do at City Hall is impacted, Heinrich said. \n",
    "\n",
    "\"What's unique about this attack and something we hadn't seen before is how coordinated attack this attack is,\" said threat intelligence analyst Allan Liska. \"It does present a new front in the ransomware attack,\" he said. \"It absolutely is the largest coordinated attack we've seen.\"\n",
    "\n",
    "Liska's research firm, Recorded Future, has found that ransomware attacks aimed at state and local government have been on the rise, finding at least 169 examples of hackers breaking into government computer systems since 2013. There have been more than 60 already this year, he said. \n",
    "\n",
    "The hacker bait tends to come in the form of a seemingly benign email with links or attachments that, once opened, can infect a system. There are other popular ways of tapping into government networks, Liska said, like through remote desktop systems, which can be vulnerable to hackers. \n",
    "\n",
    "The Recorded Future study found that about 17% of local agencies hit with ransomware viruses paid up, a practice federal law enforcement officials discourage, saying it incentivizes cybercriminals to keep engaging in the activity. \n"
   ]
  },
  {
   "cell_type": "code",
   "execution_count": null,
   "id": "89504c9c",
   "metadata": {},
   "outputs": [],
   "source": []
  }
 ],
 "metadata": {
  "kernelspec": {
   "display_name": "Python 3 (ipykernel)",
   "language": "python",
   "name": "python3"
  },
  "language_info": {
   "codemirror_mode": {
    "name": "ipython",
    "version": 3
   },
   "file_extension": ".py",
   "mimetype": "text/x-python",
   "name": "python",
   "nbconvert_exporter": "python",
   "pygments_lexer": "ipython3",
   "version": "3.9.12"
  }
 },
 "nbformat": 4,
 "nbformat_minor": 5
}
