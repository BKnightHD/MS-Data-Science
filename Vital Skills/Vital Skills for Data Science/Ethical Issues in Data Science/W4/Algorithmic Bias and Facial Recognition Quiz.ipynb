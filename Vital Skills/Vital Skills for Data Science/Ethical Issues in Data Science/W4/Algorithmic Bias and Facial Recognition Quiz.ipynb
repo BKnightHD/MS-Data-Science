{
 "cells": [
  {
   "cell_type": "markdown",
   "id": "99e7f89c",
   "metadata": {},
   "source": [
    "1. The primary causes of algorithmic bias from algorithms constructed using machine learning include:\n",
    "    - The training data set reflects human biases\n",
    "\n",
    "    - The training data set includes an insufficiently diverse sample across dimensions such as gender and race"
   ]
  },
  {
   "cell_type": "markdown",
   "id": "cb387114",
   "metadata": {},
   "source": [
    "2. Which of these is a correct conclusion that was reported in the article that we read about the analysis of COMPAS criminal sentencing algorithm:\n",
    "    - The categories produced by the algorithm about how likely a person is to re-offend predict close to equally well for black people and for white people"
   ]
  },
  {
   "cell_type": "markdown",
   "id": "2d425dc5",
   "metadata": {},
   "source": [
    "3. An article that we read said that if one removes explicit knowledge of the gender of a job applicant from the information provided to a hiring screening algorithm, the algorithm may still be able to correlate gender strongly with:\n",
    "    - Certain words that the applicant uses, such as “captures” or “executes”"
   ]
  },
  {
   "cell_type": "markdown",
   "id": "7c3a4c28",
   "metadata": {},
   "source": [
    "4. Predictive policing based on computer algorithms has been banned in certain municipalities. Predictive policing involves using a computer algorithm to: \n",
    "    - Determine which neighborhoods one should place fewer or more police officers based upon criminal histories in those neighborhoods"
   ]
  },
  {
   "cell_type": "markdown",
   "id": "79dac442",
   "metadata": {},
   "source": [
    "5. The article we read about European Union consideration of facial recognition discussed consideration of a policy that would:\n",
    "    - Make it illegal to collect facial recognition data without the consent of the person whose data it is"
   ]
  },
  {
   "cell_type": "markdown",
   "id": "1b421023",
   "metadata": {},
   "source": [
    "6. In articles that we read, reasons cited to prefer algorithmic decision making to human decision making include:\n",
    "    - Research has shown that algorithms are less biased than humans in a variety of tasks including loan decisions and hiring screening\n",
    "\n",
    "    - Humans are more inclined than algorithms to make decisions based on what they are comfortable with personally, such as hiring people like them"
   ]
  },
  {
   "cell_type": "code",
   "execution_count": null,
   "id": "b5a0e4ba",
   "metadata": {},
   "outputs": [],
   "source": []
  }
 ],
 "metadata": {
  "kernelspec": {
   "display_name": "Python 3 (ipykernel)",
   "language": "python",
   "name": "python3"
  },
  "language_info": {
   "codemirror_mode": {
    "name": "ipython",
    "version": 3
   },
   "file_extension": ".py",
   "mimetype": "text/x-python",
   "name": "python",
   "nbconvert_exporter": "python",
   "pygments_lexer": "ipython3",
   "version": "3.9.12"
  }
 },
 "nbformat": 4,
 "nbformat_minor": 5
}
