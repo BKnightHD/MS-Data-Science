{
 "cells": [
  {
   "cell_type": "markdown",
   "id": "aaab1f41",
   "metadata": {},
   "source": [
    "1. The ASA Ethical Guidelines for Statistical Practice includes the statements that the ethical statistician:\n",
    "    - Identifies and mitigates any preferences on the part of the investigators or data providers that might predetermine or influence the analyses/results\n",
    "    - Employs selection or sampling methods and analytic approaches appropriate and valid for the specific question to be addressed"
   ]
  },
  {
   "cell_type": "markdown",
   "id": "4664c1cf",
   "metadata": {},
   "source": [
    "2. The ACM code of professional ethics indicates that computing professionals should:\n",
    "- Perform work only in areas of competence\n",
    "\n",
    "- Foster public awareness and understanding of computing and its consequences\n",
    "\n",
    "- Ensure that the public good is the central concern during all professional computing work"
   ]
  },
  {
   "cell_type": "markdown",
   "id": "5c101eed",
   "metadata": {},
   "source": [
    "3. In her remarks after winning a prominent award, Dr. danah boyd described the phrase “Move Fast and Break Things” as abhorrent. This phrase has been a motto used in:\n",
    "    - The tech entrepreneurial world"
   ]
  },
  {
   "cell_type": "markdown",
   "id": "0c7e3ad4",
   "metadata": {},
   "source": [
    "4. A study found that GitHub code created by women is downloaded more frequently than GitHub code created by men if:\n",
    "    - The gender of the code creator is unknown"
   ]
  },
  {
   "cell_type": "markdown",
   "id": "e389874e",
   "metadata": {},
   "source": [
    "5. According to former Uber engineer Susan Fowler, when she initially reported misconduct by her manager to humans resources (HR), no significant action was taken because:\n",
    "    - The manager was a top performer and HR said this was the first report of misconduct"
   ]
  },
  {
   "cell_type": "markdown",
   "id": "33590553",
   "metadata": {},
   "source": [
    "6. According to the article from MIT Technology Review about a draft paper by Dr. Timnit Gebru and co-authors about ethical issues in large language models, those issues include:\n",
    "    - Bias in training data can lead to bias in results\n",
    "    - The financial and energy costs of running the models are very high"
   ]
  }
 ],
 "metadata": {
  "kernelspec": {
   "display_name": "Python 3 (ipykernel)",
   "language": "python",
   "name": "python3"
  },
  "language_info": {
   "codemirror_mode": {
    "name": "ipython",
    "version": 3
   },
   "file_extension": ".py",
   "mimetype": "text/x-python",
   "name": "python",
   "nbconvert_exporter": "python",
   "pygments_lexer": "ipython3",
   "version": "3.9.12"
  }
 },
 "nbformat": 4,
 "nbformat_minor": 5
}
