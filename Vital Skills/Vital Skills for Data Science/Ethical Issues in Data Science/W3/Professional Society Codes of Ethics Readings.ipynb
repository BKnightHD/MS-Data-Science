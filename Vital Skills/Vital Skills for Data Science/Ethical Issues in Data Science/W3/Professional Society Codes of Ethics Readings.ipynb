{
 "cells": [
  {
   "cell_type": "markdown",
   "id": "f2187e30",
   "metadata": {},
   "source": [
    "Please read the following for this lesson: \n",
    "- American Statistical Association Ethical Guidelines for Professional Practice\n",
    "    - https://www.amstat.org/your-career/ethical-guidelines-for-statistical-practice\n",
    "- ACM Code of Ethics and Professional Conduct, section 1-3\n",
    "    - https://www.acm.org/binaries/content/assets/about/acm-code-of-ethics-booklet.pdf"
   ]
  },
  {
   "cell_type": "code",
   "execution_count": null,
   "id": "78fbb11d",
   "metadata": {},
   "outputs": [],
   "source": []
  }
 ],
 "metadata": {
  "kernelspec": {
   "display_name": "Python 3 (ipykernel)",
   "language": "python",
   "name": "python3"
  },
  "language_info": {
   "codemirror_mode": {
    "name": "ipython",
    "version": 3
   },
   "file_extension": ".py",
   "mimetype": "text/x-python",
   "name": "python",
   "nbconvert_exporter": "python",
   "pygments_lexer": "ipython3",
   "version": "3.9.12"
  }
 },
 "nbformat": 4,
 "nbformat_minor": 5
}
