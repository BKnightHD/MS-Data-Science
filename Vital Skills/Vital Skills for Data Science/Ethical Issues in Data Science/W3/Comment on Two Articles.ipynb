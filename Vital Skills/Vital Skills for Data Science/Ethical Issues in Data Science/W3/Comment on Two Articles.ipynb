{
 "cells": [
  {
   "cell_type": "markdown",
   "id": "f13fe1d2",
   "metadata": {},
   "source": [
    "Comment on Two Articles\n",
    "\n",
    "Comment on two of the articles that were discussed in this lesson and that you have read carefully.   For each, say in 1-2 paragraphs:\n",
    "\n",
    "    Which article you are referring to\n",
    "\n",
    "    What you found most compelling or striking about the article\n",
    "\n",
    "    What you feel is the key ethical issue illustrated by the article\n",
    "\n",
    "Then read at least two article summaries written by other students and add a comment to each of them.\n",
    "\n",
    "Please note: if you decide to upgrade your enrollment in this course to receive credit in CU’ Boulder’s MS-DS program, you will lose access to the discussion posts you submitted in the non-credit version. Since you will need your old discussion posts in order to complete the final assignment, we suggest that you save your discussion responses in a separate document so that you will still have access to them should you decide to upgrade your enrollment to the for-credit version of the course. Thank you!\n",
    "Participation is optional"
   ]
  },
  {
   "cell_type": "markdown",
   "id": "f53e6ffb",
   "metadata": {},
   "source": [
    "https://onezero.medium.com/facing-the-great-reckoning-head-on-8fe434e10630\n",
    "\n",
    "https://www.theguardian.com/technology/2016/feb/12/women-considered-better-coders-hide-gender-github\n",
    "\n",
    "https://www.technologyreview.com/2020/12/04/1013294/google-ai-ethics-research-paper-forced-out-timnit-gebru/\n",
    "\n",
    "https://www.nytimes.com/2020/12/03/technology/google-researcher-timnit-gebru.html?campaign_id=2&emc=edit_th_20201204&instance_id=24702&nl=todaysheadlines&regi_id=17754076&segment_id=46051&user_id=16ecf3987642ea9959b524420f653d1e\n",
    "\n",
    "https://www.dreamhost.com/blog/like-black-woman-tech-qa-kaya-thomas/\n",
    "\n",
    "https://www.theatlantic.com/magazine/archive/2017/04/why-is-silicon-valley-so-awful-to-women/517788/\n",
    "\n",
    "https://www.nytimes.com/2017/06/13/opinion/travis-kalanick-uber-bad-behavior.html\n",
    "\n",
    "https://www.susanjfowler.com/blog/2017/2/19/reflecting-on-one-very-strange-year-at-uber"
   ]
  },
  {
   "cell_type": "code",
   "execution_count": null,
   "id": "8541750a",
   "metadata": {},
   "outputs": [],
   "source": []
  }
 ],
 "metadata": {
  "kernelspec": {
   "display_name": "Python 3 (ipykernel)",
   "language": "python",
   "name": "python3"
  },
  "language_info": {
   "codemirror_mode": {
    "name": "ipython",
    "version": 3
   },
   "file_extension": ".py",
   "mimetype": "text/x-python",
   "name": "python",
   "nbconvert_exporter": "python",
   "pygments_lexer": "ipython3",
   "version": "3.9.12"
  }
 },
 "nbformat": 4,
 "nbformat_minor": 5
}
