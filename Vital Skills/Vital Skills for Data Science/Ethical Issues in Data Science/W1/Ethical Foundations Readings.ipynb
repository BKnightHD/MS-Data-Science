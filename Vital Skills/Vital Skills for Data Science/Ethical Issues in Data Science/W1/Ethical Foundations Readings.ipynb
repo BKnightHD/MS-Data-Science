{
 "cells": [
  {
   "cell_type": "markdown",
   "id": "193ec22e",
   "metadata": {},
   "source": [
    "Please read the following for this lesson:  \n",
    "- https://www.youtube.com/watch?v=vfIdNV22LQM\n",
    "- http://www.ethicsupdates.net/theories/index.shtml\n",
    "- https://saylordotorg.github.io/text_law-for-entrepreneurs/s05-02-major-ethical-perspectives.html\n",
    "- https://comicsalliance.com/batman-kill-joker-philosophy/"
   ]
  },
  {
   "cell_type": "markdown",
   "id": "b82f98fe",
   "metadata": {},
   "source": [
    "Optional Readings:\n",
    "\n",
    "Extensive descriptions and analyses of major ethical frameworks:\n",
    "- https://plato.stanford.edu/entries/ethics-deontological/\n",
    "- https://plato.stanford.edu/entries/ethics-virtue/\n",
    "- https://plato.stanford.edu/entries/consequentialism/"
   ]
  },
  {
   "cell_type": "code",
   "execution_count": null,
   "id": "08e7dea7",
   "metadata": {},
   "outputs": [],
   "source": []
  }
 ],
 "metadata": {
  "kernelspec": {
   "display_name": "Python 3 (ipykernel)",
   "language": "python",
   "name": "python3"
  },
  "language_info": {
   "codemirror_mode": {
    "name": "ipython",
    "version": 3
   },
   "file_extension": ".py",
   "mimetype": "text/x-python",
   "name": "python",
   "nbconvert_exporter": "python",
   "pygments_lexer": "ipython3",
   "version": "3.9.12"
  }
 },
 "nbformat": 4,
 "nbformat_minor": 5
}
