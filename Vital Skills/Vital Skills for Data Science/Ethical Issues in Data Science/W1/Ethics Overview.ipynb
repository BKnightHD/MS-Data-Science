{
 "cells": [
  {
   "cell_type": "markdown",
   "id": "7798cab1",
   "metadata": {},
   "source": [
    "Ethics is based on well-founded standards of right and wrong that prescribe what humans ought to do, usually in terms of rights, obligations, benefits to society, fairness, or specific virtues.\n",
    "\n",
    "Some years ago, sociologist Raymond Baumhart asked business people, \"What does ethics mean to you?\" Among their replies were the following:\n",
    "\n",
    "\"Ethics has to do with what my feelings tell me is right or wrong.\"\n",
    "\"Ethics has to do with my religious beliefs.\"\n",
    "\"Being ethical is doing what the law requires.\"\n",
    "\"Ethics consists of the standards of behavior our society accepts.\"\n",
    "\"I don't know what the word means.\"\n",
    "\n",
    "These replies might be typical of our own. The meaning of \"ethics\" is hard to pin down, and the views many people have about ethics are shaky.\n",
    "\n",
    "Like Baumhart's first respondent, many people tend to equate ethics with their feelings. But being ethical is clearly not a matter of following one's feelings. A person following his or her feelings may recoil from doing what is right. In fact, feelings frequently deviate from what is ethical.\n",
    "\n",
    "Nor should one identify ethics with religion. Most religions, of course, advocate high ethical standards. Yet if ethics were confined to religion, then ethics would apply only to religious people. But ethics applies as much to the behavior of the atheist as to that of the devout religious person. Religion can set high ethical standards and can provide intense motivations for ethical behavior. Ethics, however, cannot be confined to religion nor is it the same as religion.\n",
    "\n",
    "Being ethical is also not the same as following the law. The law often incorporates ethical standards to which most citizens subscribe. But laws, like feelings, can deviate from what is ethical. Our own pre-Civil War slavery laws and the old apartheid laws of present-day South Africa are grotesquely obvious examples of laws that deviate from what is ethical.\n",
    "\n",
    "Finally, being ethical is not the same as doing \"whatever society accepts.\" In any society, most people accept standards that are, in fact, ethical. But standards of behavior in society can deviate from what is ethical. An entire society can become ethically corrupt. Nazi Germany is a good example of a morally corrupt society.\n",
    "\n",
    "Moreover, if being ethical were doing \"whatever society accepts,\" then to find out what is ethical, one would have to find out what society accepts. To decide what I should think about abortion, for example, I would have to take a survey of American society and then conform my beliefs to whatever society accepts. But no one ever tries to decide an ethical issue by doing a survey. Further, the lack of social consensus on many issues makes it impossible to equate ethics with whatever society accepts. Some people accept abortion but many others do not. If being ethical were doing whatever society accepts, one would have to find an agreement on issues which does not, in fact, exist.\n",
    "\n",
    "What, then, is ethics? Ethics is two things. First, ethics refers to well-founded standards of right and wrong that prescribe what humans ought to do, usually in terms of rights, obligations, benefits to society, fairness, or specific virtues. Ethics, for example, refers to those standards that impose the reasonable obligations to refrain from rape, stealing, murder, assault, slander, and fraud. Ethical standards also include those that enjoin virtues of honesty, compassion, and loyalty. And, ethical standards include standards relating to rights, such as the right to life, the right to freedom from injury, and the right to privacy. Such standards are adequate standards of ethics because they are supported by consistent and well-founded reasons.\n",
    "\n",
    "Secondly, ethics refers to the study and development of one's ethical standards. As mentioned above, feelings, laws, and social norms can deviate from what is ethical. So it is necessary to constantly examine one's standards to ensure that they are reasonable and well-founded. Ethics also means, then, the continuous effort of studying our own moral beliefs and our moral conduct, and striving to ensure that we, and the institutions we help to shape, live up to standards that are reasonable and solidly-based."
   ]
  },
  {
   "cell_type": "code",
   "execution_count": null,
   "id": "c2ee48e7",
   "metadata": {},
   "outputs": [],
   "source": []
  }
 ],
 "metadata": {
  "kernelspec": {
   "display_name": "Python 3 (ipykernel)",
   "language": "python",
   "name": "python3"
  },
  "language_info": {
   "codemirror_mode": {
    "name": "ipython",
    "version": 3
   },
   "file_extension": ".py",
   "mimetype": "text/x-python",
   "name": "python",
   "nbconvert_exporter": "python",
   "pygments_lexer": "ipython3",
   "version": "3.9.12"
  }
 },
 "nbformat": 4,
 "nbformat_minor": 5
}
