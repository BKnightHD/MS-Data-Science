{
 "cells": [
  {
   "cell_type": "markdown",
   "id": "1d2b4397-156f-4bd7-9ae8-d25d2b1f9d8a",
   "metadata": {},
   "source": [
    "In your previous post, you identified a series of tasks and goals for your visualization as well as some preliminary design ideas. We’ll jump ahead a few steps and start to think about how we might evaluate our design approach. Outline a preliminary evaluation that addresses your core goals with the visualization. Make sure your evaluation discusses: \n",
    "\n",
    "- The target question you want to answer\n",
    "- The people you would recruit to answer that question\n",
    "- The kinds of measures you would use to answer your data (e.g., insight depth, use cases, accuracy) and what these measures would tell you about the core question\n",
    "- The approach you will use to answer that question (e.g., a journaling study, a formal experiment, etc.)\n",
    "- How you would instantiate those methods (i.e., what would your participants do?)\n",
    "- What criteria would you use to indicate that your visualization was successful"
   ]
  },
  {
   "cell_type": "code",
   "execution_count": null,
   "id": "31581488-92af-49e8-bc9f-c9f1b76e2f83",
   "metadata": {},
   "outputs": [],
   "source": []
  }
 ],
 "metadata": {
  "kernelspec": {
   "display_name": "Python 3 (ipykernel)",
   "language": "python",
   "name": "python3"
  },
  "language_info": {
   "codemirror_mode": {
    "name": "ipython",
    "version": 3
   },
   "file_extension": ".py",
   "mimetype": "text/x-python",
   "name": "python",
   "nbconvert_exporter": "python",
   "pygments_lexer": "ipython3",
   "version": "3.8.18"
  }
 },
 "nbformat": 4,
 "nbformat_minor": 5
}
