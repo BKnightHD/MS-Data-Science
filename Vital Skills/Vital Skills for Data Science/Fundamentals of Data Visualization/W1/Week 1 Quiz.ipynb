{
 "cells": [
  {
   "cell_type": "markdown",
   "id": "dd000b20",
   "metadata": {},
   "source": [
    "1. What is the primary function of a mark? \n",
    "    - To represent data attributes"
   ]
  },
  {
   "cell_type": "markdown",
   "id": "f16c4a05",
   "metadata": {},
   "source": [
    "2. The three basic questions to ask when deconstructing a visualization are: \n",
    "    - What data is being shown?\n",
    "\n",
    "    - ???\n",
    "\n",
    "    - How has the visualization been designed?\n",
    "    \n",
    "Answer: \n",
    "    - Why is the data presented? "
   ]
  },
  {
   "cell_type": "markdown",
   "id": "64683942",
   "metadata": {},
   "source": [
    "3. What allows us to deconstruct a chart into its constituent pieces?\n",
    "    - Grammar of Graphics"
   ]
  },
  {
   "cell_type": "markdown",
   "id": "d94bfa74",
   "metadata": {},
   "source": [
    "4. What defines the range of values mapped to a given set of axes?\n",
    "    - Scales"
   ]
  },
  {
   "cell_type": "markdown",
   "id": "74a65eb3",
   "metadata": {},
   "source": [
    "5. What defines the shape of marks in a visualization?\n",
    "    - Geometric Objects"
   ]
  },
  {
   "cell_type": "markdown",
   "id": "4211f6f5",
   "metadata": {},
   "source": [
    "6. I have a dataset that I’d like to visualize that describes major world events over the last year. The dataset has an attribute for the month the event occurred in, the number of countries involved in the event (e.g., January, February), and the genre of event (e.g., political, social, environmental). How would you categorize the data types of these three attributes respectively?\n",
    "    - Ordinal, Continuous, Categorical"
   ]
  },
  {
   "cell_type": "markdown",
   "id": "45936666",
   "metadata": {},
   "source": [
    "7. If you divide continuous data into three intervals and represent each interval using either a square, circle, or triangle, the visualization violates the principle of\n",
    "    - Expressiveness"
   ]
  },
  {
   "cell_type": "markdown",
   "id": "ebcfaa53",
   "metadata": {},
   "source": [
    "8. What are the inputs and outputs of a visualization mapping?\n",
    "    - Data Value & Visual Encoding"
   ]
  },
  {
   "cell_type": "markdown",
   "id": "f790b975",
   "metadata": {},
   "source": [
    "9. When might it be useful to use a log scale?\n",
    "    - When the data has a heavily skewed distribution"
   ]
  },
  {
   "cell_type": "markdown",
   "id": "09f3b712",
   "metadata": {},
   "source": [
    "10. Why is it misleading to use the diameter of a circle to encode data?\n",
    "    - Diameter significantly increases the area of a mark"
   ]
  },
  {
   "cell_type": "markdown",
   "id": "f0757b04",
   "metadata": {},
   "source": [
    "11. Which of the following color encoding types should be used to show how far temperature readings are above or below freezing?\n",
    "    - Diverging"
   ]
  },
  {
   "cell_type": "markdown",
   "id": "57679e31",
   "metadata": {},
   "source": [
    "12. In which of the following situations would a rainbow colormap be useful?\n",
    "    - When you are not representing continuous data"
   ]
  },
  {
   "cell_type": "markdown",
   "id": "fb0f4e75",
   "metadata": {},
   "source": [
    "13. Why might interaction be undesirable?\n",
    "    - Some interactions may not be intuitive"
   ]
  },
  {
   "cell_type": "markdown",
   "id": "fbf1b918",
   "metadata": {},
   "source": [
    "14. What workflow should interactive visualizations typically follow?\n",
    "    - *A: Overview first. Zoom and filter. Details on demand. "
   ]
  },
  {
   "cell_type": "markdown",
   "id": "caa5097f",
   "metadata": {},
   "source": [
    "15. Which of the following techniques allows a visualization to prevent its readers from getting lost as they interact with their data? \n",
    "    - Overview+Detail"
   ]
  },
  {
   "cell_type": "markdown",
   "id": "1014c31d",
   "metadata": {},
   "source": [
    "16. What should visualizations typically do in response to a selection interaction? \n",
    "* Make relevant data easier to find"
   ]
  },
  {
   "cell_type": "markdown",
   "id": "947c251a",
   "metadata": {},
   "source": [
    "17. What is the primary reason a visualization may want to arrange data alphabetically along an axis? \n",
    "    - To make it easier to find data"
   ]
  },
  {
   "cell_type": "markdown",
   "id": "49ba6f71",
   "metadata": {},
   "source": [
    "18. What technique should I use if I want to select interesting data in one chart and filter for only that data in a second chart? \n",
    "    - Multiple View Coordination"
   ]
  },
  {
   "cell_type": "markdown",
   "id": "9adf99ff",
   "metadata": {},
   "source": [
    "19. I have a dataset with the following composition: \n",
    "\n",
    "    - Sales Totals between $10k and $15k per week \n",
    "\n",
    "    - Date between January 2000 and December 2020\n",
    "\n",
    "I create a scatterplot of this data with the date on the x-axis and the sales totals on the y-axis. Which of the following y-axis scales is most appropriate to analyze the fluctuations in sales overtime? \n",
    "\n",
    "* -5k - 5k"
   ]
  },
  {
   "cell_type": "markdown",
   "id": "a1a99818",
   "metadata": {},
   "source": [
    "20. Which of the following is *not* a reason that 3D charts can mislead?\n",
    "    - 3D charts are harder to build than 2D charts"
   ]
  },
  {
   "cell_type": "code",
   "execution_count": null,
   "id": "33c5e159",
   "metadata": {},
   "outputs": [],
   "source": []
  }
 ],
 "metadata": {
  "kernelspec": {
   "display_name": "Python 3 (ipykernel)",
   "language": "python",
   "name": "python3"
  },
  "language_info": {
   "codemirror_mode": {
    "name": "ipython",
    "version": 3
   },
   "file_extension": ".py",
   "mimetype": "text/x-python",
   "name": "python",
   "nbconvert_exporter": "python",
   "pygments_lexer": "ipython3",
   "version": "3.9.12"
  }
 },
 "nbformat": 4,
 "nbformat_minor": 5
}
