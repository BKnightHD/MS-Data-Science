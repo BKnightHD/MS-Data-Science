{
 "cells": [
  {
   "cell_type": "markdown",
   "id": "a462ccc8",
   "metadata": {},
   "source": [
    "Share with your fellow students an elevator pitch for the report you put together last week on the NYPD shooting incident data. Remember that an elevator pitch should be short (around one minute) and your target audience is a thirteen-year old. So keep it short and simple!\n",
    "\n",
    "Use this as a space to work out your elevator pitch. At the end of the week, you'll record your pitch and submit it as part of the peer-review assignment."
   ]
  },
  {
   "cell_type": "markdown",
   "id": "ef1f0018",
   "metadata": {},
   "source": [
    "In this data analysis project, I've worked with New York City crime data to uncover valuable insights. The data spans from 2006 to 2021 and focuses on shooting incidents within the city.\n",
    "\n",
    "One key observation is the distribution of shooting incidents across the city's boroughs. By visualizing the data, we can see how these incidents are distributed among the boroughs, providing valuable information for understanding the local crime landscape.\n",
    "\n",
    "Additionally, I've examined how shooting incidents have evolved over the years. This analysis helps us track trends and changes in crime rates, which can be useful for policy makers and law enforcement agencies.\n",
    "\n",
    "Another angle I've explored is the daily and hourly patterns of shooting incidents. Understanding when these incidents are more likely to occur can inform resource allocation and public safety efforts.\n",
    "\n",
    "Ultimately, this data analysis provides valuable insights into crime trends in New York City, which can be used for informed decision-making and improving public safety strategies."
   ]
  },
  {
   "cell_type": "code",
   "execution_count": null,
   "id": "0c99f20d",
   "metadata": {},
   "outputs": [],
   "source": []
  }
 ],
 "metadata": {
  "kernelspec": {
   "display_name": "Python 3 (ipykernel)",
   "language": "python",
   "name": "python3"
  },
  "language_info": {
   "codemirror_mode": {
    "name": "ipython",
    "version": 3
   },
   "file_extension": ".py",
   "mimetype": "text/x-python",
   "name": "python",
   "nbconvert_exporter": "python",
   "pygments_lexer": "ipython3",
   "version": "3.9.12"
  }
 },
 "nbformat": 4,
 "nbformat_minor": 5
}
