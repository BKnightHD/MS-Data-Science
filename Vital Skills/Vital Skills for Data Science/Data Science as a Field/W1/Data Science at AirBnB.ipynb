{
 "cells": [
  {
   "cell_type": "markdown",
   "id": "6bf27571",
   "metadata": {},
   "source": [
    "Read the article posted at  Data science at [airBnB](https://medium.com/airbnb-engineering/using-r-packages-and-education-to-scale-data-science-at-airbnb-906faa58e12d)\n",
    "\n",
    "Then, post on the discussion board answers to: \n",
    "\n",
    "- How does airBnB train its data scientists? \n",
    "\n",
    "- Is their approach effective?  \n",
    "\n",
    "- Why or why not? "
   ]
  },
  {
   "cell_type": "markdown",
   "id": "c274781c",
   "metadata": {},
   "source": [
    "New team members arrive at Airbnb proficient in different programming languages, including R, Python, Matlab, Stata, SAS, and SPSS. To scale collaboration and unify our data science brand, we rely on tooling, education, and infrastructure. In this post, we focus on the lessons we have learned building R tools and teaching R at Airbnb. Most of these lessons also generalize to Python.\n",
    "\n",
    "Our approach has two main pillars: package building and education. We build packages to develop collaborative solutions to common problems, to standardize the visual presentation of our work, and to avoid reinventing the wheel. The goals of our educational efforts are to give all data scientists exposure to R and to the specific packages we use, and to provide opportunities for further learning to those who wish to deepen their skills.\n",
    "\n"
   ]
  },
  {
   "cell_type": "markdown",
   "id": "45f46e11",
   "metadata": {},
   "source": [
    "---"
   ]
  },
  {
   "cell_type": "markdown",
   "id": "24036aee",
   "metadata": {},
   "source": [
    "It does not matter how many tools you build if people do not know how to use them. After a period of rapid growth, we started organizing monthly week-long data bootcamps for new hires and current team members. They include 3-hour R workshops, and optional mentorship in a bootcamp project coded in R and written in R Markdown.\n",
    "\n",
    "The bootcamp R class focuses on the Rbnb package and on common R packages used to reshape and manipulate data frames (tidyr and dplyr), visualize data (ggplot2), and write dynamic reports (R Markdown). We give participants study guides and materials a few days before our class. During class, we walk through a structured tutorial using our own data, including challenges that we commonly face on the job as working examples.\n",
    "\n",
    "This approach allows users who are not familiar with R to start coding within a few hours, without having to worry about the intricacies of more advanced programing. We also introduce users to our internal style guide and to many useful R packages, such as formattable, diagrammeR, and broom. Finally, we give them directions on how to find help and online resources.\n",
    "\n",
    "After the bootcamp, we encourage users to continue learning. We sponsor individual memberships to DataCamp and help team members organize study groups around self-paced and interactive online courses. We also pair new hires with experienced peers who serve as mentors. These mentors walk new team members through their first contributions as data scientists. We have an internal Slack channel in which users can pose any questions related to R, and organize regular office hours in which experienced developers can help with more complex coding challenges. Our team members organize learning lunches and classes on topics such as SparkR, R object systems, and package development. Most recently, four team members attended a Master R Developer Workshop organized by RStudio, and shared what they learned with the team afterwards."
   ]
  },
  {
   "cell_type": "markdown",
   "id": "1ccd982b",
   "metadata": {},
   "source": [
    "---"
   ]
  },
  {
   "cell_type": "markdown",
   "id": "227d99dc",
   "metadata": {},
   "source": [
    "it is continued education and collaboration"
   ]
  },
  {
   "cell_type": "code",
   "execution_count": null,
   "id": "b02cc8ba",
   "metadata": {},
   "outputs": [],
   "source": []
  },
  {
   "cell_type": "markdown",
   "id": "1196cd31",
   "metadata": {},
   "source": [
    "gpt\n",
    "\n",
    "Airbnb has a well-structured approach to training its data scientists, as outlined in the provided information. Their approach encompasses three main pillars: package building, education, and infrastructure. Let's break down their approach and assess its effectiveness:\n",
    "\n",
    "1. **Package Building**: Airbnb emphasizes the development of internal R packages, such as Rbnb, which serve several purposes:\n",
    "   - **Collaboration**: Multiple team members can work together on these packages, allowing for the improvement of tools and the fixing of bugs.\n",
    "   - **Transparency and Documentation**: These packages come with peer-reviewed contributions and thorough documentation, reducing the risk of errors or incorrect usage.\n",
    "   - **Ease of Deployment**: New versions of these packages can be easily deployed to all team members, ensuring everyone has access to the latest tools.\n",
    "\n",
    "   **Effectiveness**: This approach is effective in streamlining workflows, reducing duplication of effort, and promoting code quality and standardization. It allows for efficient knowledge sharing and collaboration within the data science team.\n",
    "\n",
    "2. **Education**: Airbnb organizes regular data bootcamps for both new hires and current team members. These bootcamps include R workshops and mentorship opportunities, helping team members to quickly become proficient in R and related packages.\n",
    "\n",
    "   **Effectiveness**: This approach is effective in ensuring that all team members have a baseline understanding of R and relevant data science tools. It accelerates the onboarding process for new hires and provides continuous learning opportunities.\n",
    "\n",
    "3. **Infrastructure**: Airbnb invests in strong data infrastructure, including supporting Shiny apps, RStudio Server, and SparkR clusters. They maintain version control across machines, allowing for rapid updates and large-scale deployment.\n",
    "\n",
    "   **Effectiveness**: This infrastructure investment is effective in providing a stable and scalable environment for data scientists to work in. It ensures that tools and applications run smoothly, even as the team grows.\n",
    "\n",
    "Overall, Airbnb's approach to training its data scientists appears to be effective. It addresses the challenges posed by a diverse team with varying levels of expertise and backgrounds, promoting collaboration, standardization, and continuous learning. However, the effectiveness of this approach depends on several factors, including the quality of training materials, the engagement of team members, and the adaptability of the training program as the field of data science evolves.\n",
    "\n",
    "To further assess its effectiveness, it would be beneficial to gather feedback from Airbnb's data science team members and evaluate the impact of this training approach on their productivity and skill development over time. Additionally, measuring the impact of data science initiatives on Airbnb's business outcomes can provide insights into the overall effectiveness of their data science training program."
   ]
  },
  {
   "cell_type": "code",
   "execution_count": null,
   "id": "5fb5abf1",
   "metadata": {},
   "outputs": [],
   "source": []
  }
 ],
 "metadata": {
  "kernelspec": {
   "display_name": "Python 3 (ipykernel)",
   "language": "python",
   "name": "python3"
  },
  "language_info": {
   "codemirror_mode": {
    "name": "ipython",
    "version": 3
   },
   "file_extension": ".py",
   "mimetype": "text/x-python",
   "name": "python",
   "nbconvert_exporter": "python",
   "pygments_lexer": "ipython3",
   "version": "3.9.12"
  }
 },
 "nbformat": 4,
 "nbformat_minor": 5
}
