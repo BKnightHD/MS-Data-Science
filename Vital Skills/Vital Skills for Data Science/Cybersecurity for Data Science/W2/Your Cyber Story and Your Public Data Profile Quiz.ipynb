{
 "cells": [
  {
   "cell_type": "markdown",
   "id": "264ca122",
   "metadata": {},
   "source": [
    "1. What is cryptography?\n",
    "    - A method for protecting information and communications through codes"
   ]
  },
  {
   "cell_type": "markdown",
   "id": "f93fbc20",
   "metadata": {},
   "source": [
    "2. How does cryptography relate to cybersecurity?\n",
    "    - Cryptography helps keep information safe through code."
   ]
  },
  {
   "cell_type": "markdown",
   "id": "5dc4ac8c",
   "metadata": {},
   "source": [
    "3. What aspect can make long passwords less successful?\n",
    "    - Social engineering\n",
    "    "
   ]
  },
  {
   "cell_type": "markdown",
   "id": "d6020183",
   "metadata": {},
   "source": [
    "4. What goes into a secure password?\n",
    "    - Passwords are secure as the how they are maintained."
   ]
  },
  {
   "cell_type": "markdown",
   "id": "b5ed57c0",
   "metadata": {},
   "source": [
    "5. True or false, an easy to remember password like “1,2,3,4” is more secure than a complex password.\n",
    "    - False"
   ]
  },
  {
   "cell_type": "markdown",
   "id": "64995718",
   "metadata": {},
   "source": [
    "6. A password is only as good as…\n",
    "    - The organization storing them"
   ]
  },
  {
   "cell_type": "markdown",
   "id": "3b65f4d6",
   "metadata": {},
   "source": [
    "7. How can a company store a password more securely?\n",
    "    - Encrypt it"
   ]
  },
  {
   "cell_type": "markdown",
   "id": "4f9534aa",
   "metadata": {},
   "source": [
    "8. What do you call a person who practices cryptography?\n",
    "    - cryptographer"
   ]
  },
  {
   "cell_type": "markdown",
   "id": "4f88b25e",
   "metadata": {},
   "source": [
    "9. What searches should you do when exploring your cyberstory?\n",
    "    - Name or Email address search\n",
    "    - check HaveIBeenPwned website\n",
    "    - Image search"
   ]
  },
  {
   "cell_type": "markdown",
   "id": "23b72131",
   "metadata": {},
   "source": [
    "10. What are the main standards of cryptography?\n",
    "\n",
    "    - Confidentiality, Integrity, Non-repudiation and Authentication"
   ]
  },
  {
   "cell_type": "markdown",
   "id": "aaa817e9",
   "metadata": {},
   "source": []
  }
 ],
 "metadata": {
  "kernelspec": {
   "display_name": "Python 3 (ipykernel)",
   "language": "python",
   "name": "python3"
  },
  "language_info": {
   "codemirror_mode": {
    "name": "ipython",
    "version": 3
   },
   "file_extension": ".py",
   "mimetype": "text/x-python",
   "name": "python",
   "nbconvert_exporter": "python",
   "pygments_lexer": "ipython3",
   "version": "3.9.12"
  }
 },
 "nbformat": 4,
 "nbformat_minor": 5
}
