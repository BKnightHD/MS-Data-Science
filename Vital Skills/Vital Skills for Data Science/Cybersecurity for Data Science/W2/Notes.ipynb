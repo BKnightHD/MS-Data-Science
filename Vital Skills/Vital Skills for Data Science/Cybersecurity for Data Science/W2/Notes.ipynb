{
 "cells": [
  {
   "cell_type": "markdown",
   "id": "7b5319e4",
   "metadata": {},
   "source": [
    "# 5 Steps to Protecting Your Online Reputation\n",
    "\n",
    "https://www.experian.com/blogs/ask-experian/5-steps-to-protecting-your-online-reputation/\n",
    "\n",
    "1. Secure Private Information\n",
    "2. Set Firm Privacy Settings\n",
    "3. Have Everyone Google Themselves\n",
    "4. Clean up Family Social Media Platforms\n",
    "5. Register Your Name Online\n",
    "\n",
    "To gain more control over your own name or your family name, register your name as an online domain if it's available. By doing so, you control your own name online, and not someone else who could do you or your family harm.\n",
    "\n",
    "Also, register a domain name for any family-run business, as well. The idea is to control your family's good name online, in as many ways possible; registering a family or individual domain can eliminate the threat of someone using your own name, and controlling your family's reputation, against your wishes."
   ]
  },
  {
   "cell_type": "markdown",
   "id": "9072dbb8",
   "metadata": {},
   "source": [
    "---"
   ]
  },
  {
   "cell_type": "markdown",
   "id": "1e13864f",
   "metadata": {},
   "source": [
    "# Take Charge of Your Online Reputation\n",
    "\n",
    "https://er.educause.edu/articles/2018/10/take-charge-of-your-online-reputation\n",
    "\n",
    "\n",
    "\n",
    "Cleaning Up Your Online Presence\n",
    "\n",
    "- Search for your name and other identifiers with Google, Yahoo, Bing, and Spokeo\n",
    "- Subscribe to Google Alerts to receive an email as soon as your search phrase (such as your name, school, or work) enters Google's index\n",
    "- Work together with friends who aren't in your social networks to check your work\n",
    "- Ensure everything online complements your reputation\n",
    "- Frequently check and update your social media privacy settings\n",
    "\n"
   ]
  },
  {
   "cell_type": "markdown",
   "id": "054540fb",
   "metadata": {},
   "source": [
    "---"
   ]
  },
  {
   "cell_type": "markdown",
   "id": "5bb6b3c0",
   "metadata": {},
   "source": [
    "# Reputation and cybersecurity: from risk to opportunity, and cyber-pride\n",
    "\n",
    "pdf\n",
    "\n",
    "Meet the three reputational pathways\n",
    "Reputation is not a monolithic construct. It’s built up by the cumulative actions of three\n",
    "main pathways, and equally can be destroyed by damage via any of those same pathways.\n",
    "These (in no particular order) are as follows:\n",
    "1. Product\n",
    "2. Branding\n",
    "3. Security"
   ]
  },
  {
   "cell_type": "markdown",
   "id": "f6277948",
   "metadata": {},
   "source": [
    "---"
   ]
  },
  {
   "cell_type": "markdown",
   "id": "89115041",
   "metadata": {},
   "source": [
    "# How to Ungoogle Yourself\n",
    "\n",
    "https://www.wikihow.com/Ungoogle-Yourself\n",
    "\n",
    "1. Know what's out there about you. Whether you call it self-search, vanity search, or ego-googling, it's a good idea to check in with yourself from time to time. This is especially true when you're thinking about taking on a new career or attempting to forge a new relationship.\n",
    "\n",
    "- Search for your full name—with and without middle name—as well as your family name, any nicknames and aliases you might have, and any other variation of your name that you can think of.\n",
    "- For example, if you regularly comment on a political blog under the name \"AlwaysRight,\" for example, Google that, then Google \"AlwaysRight\" \"Your Realname\", quotation marks and all. This will force the search engine to return a very specific result that contains both sets of words to see if the two names can be linked.\n",
    "\n",
    "\n",
    "2.  Understand Google's stance on content removal. Google displays links to content, but they don't host the content itself; this means that they'll rarely remove legal content (even if it's controversial) from search results unless at least one of the following circumstances are met:\n",
    "\n",
    "- The person or company hosting the website on which the content is posted (also known as the \"webmaster\") removes the content from the site itself.\n",
    "- The content is proven to be slanderous, inaccurate or revealing to the point of being damaging, or otherwise in a legal \"grey\" area.\n",
    "\n",
    "\n",
    "3.  Determine whether or not your information is worth removing. If your information is technically legal to host, Google won't remove the information for you; you'll have to contact the webmaster directly in order to request that the information be taken down.\n",
    "\n",
    "- If the information in question isn't so much harmful as just embarrassing, the process of requesting its deletion might be more effort than it's worth.\n",
    "\n",
    "4.  Ask friends to remove posts for you. If the content that you want to remove was posted by a friend, you should be able to contact them and ask for them to take it down.\n",
    "\n",
    "- Again, you'll have to contact the website's webmaster to take down non-friendly content that you can't remove.\n",
    "\n",
    "\n",
    "5.  Make changes to existing content. For content that you can control, such as Facebook pages or Twitter tweets, make changes to the page linked to in the Google results.\n",
    "\n",
    "- You can do this by following the link from the search result itself, logging in if prompted, and then either deleting the post or editing it. Be aware that sites like Facebook show edit history, so people will be able to see the old version of the edited post.\n",
    "\n",
    "\n",
    "6.  Delete obsolete accounts. While old accounts may not contain embarrassing information, it's always a good idea to remove information that's no longer current.\n",
    "\n",
    "- For example, if you had a Myspace page back at the turn of the century, you might want to close it in order to avoid old information coming back to haunt your online presence.\n",
    "- Even if you don't want to delete an entire account, removing old posts from your account is a good idea. Facebook's \"On This Day\" option makes this easy, whereas other social media accounts may require you to scroll down to the post(s).\n",
    "\n",
    "\n",
    "7.  Be proactive. Google cannot crawl what they cannot see, and you cannot be identified by what you do not choose to share. Be very selective on when, where, and with whom you share any personal information.\n",
    "\n",
    "- This is especially true in online forums or games.\n",
    "- For professional or commercial accounts such as cable or Netflix, keep your user name abbreviated.\n",
    "- Use these techniques whenever you are asked to put your name out in a public location that Google bots can find and index. You can't stop them from finding you, but you can prevent them from pointing to the real you.\n",
    "\n",
    "8.  Bury the content you don't want to be found. By posting to multiple sites under the name that is generating the unwanted content, your offending content will eventually be moved down the Google page, or even onto a second or third page.\n",
    "\n",
    "- This isn't guaranteed to work right away, but you should see results after a while if you keep posting on the other sites while ignoring the one on which the content you want to hide is located.\n",
    "\n"
   ]
  },
  {
   "cell_type": "markdown",
   "id": "327ea42e",
   "metadata": {},
   "source": [
    "---"
   ]
  },
  {
   "cell_type": "markdown",
   "id": "b91bc7f6",
   "metadata": {},
   "source": [
    "# Everything you know about passwords could be wrong\n",
    "\n",
    "https://www.cnbc.com/2019/12/26/everything-you-know-about-passwords-could-be-wrong.html\n",
    "\n",
    "- Having to remember a complicated string of characters is a problem acknowledged by associations such as Fido Alliance, which aims to help reduce the world’s reliance on passwords.\n",
    "- Jonathan Knudsen, a senior security strategist at Synopsys Software Integrity Group, said: “People overestimate the ability of websites to protect their passwords.”\n",
    "- Employees reuse a password an average of 13 times, according to LastPass’ third annual global password security report.\n",
    "\n",
    "Until passwords become a thing of the past, here are three myths, debunked:\n",
    "\n",
    "1. Multi-factor authentication is not foolproof\n",
    "- ”Every security feature can be defeated,” Knudsen of Synopsys Software Integrity Group said, when asked about two-factor authentication.\n",
    "    Hackers can take over a phone number in an attack known as SIM jacking or SIM swapping. That means one-time passwords would be sent to the attackers and not the rightful owners of the accounts.\n",
    "2. Complex passwords aren’t that much better\n",
    "- ”Anything is better than the laziest of passwords,” said Shikiar, pointing to the “ever-popular” options of 123456 and password. “But ultimately any password can be stolen.“\n",
    "- Additionally, people think replacing letters with numbers or symbols to create a more complex password is an effective against bad actors, said Knudsen. “For example, they might believe that ‘secret’ is a weak password but ‘s3cr3t’ will be hard to guess,” he said. “However, hackers are wise to this type of substitution and will have no trouble guessing such a password.”\n",
    "3. Frequent changes don’t help with password security\n",
    "- Many employees would be familiar with the dreaded email that comes every three to six months — a reminder that your password is expiring soon — and needs to be replaced.\n",
    "- But, according to Shikiar, “forcing frequent password changes or a mix of special characters has actually proven to create passwords that are more susceptible to being forgotten and — surprisingly — to being swiped by hackers.”\n",
    "\n"
   ]
  },
  {
   "cell_type": "markdown",
   "id": "7bdd74b5",
   "metadata": {},
   "source": [
    "---"
   ]
  },
  {
   "cell_type": "markdown",
   "id": "2d03b035",
   "metadata": {},
   "source": [
    "#  Keep Your Passwords Strong and Secure With These 9 Rules \n",
    "\n",
    "https://www.cnet.com/tech/mobile/keep-your-passwords-strong-and-secure-with-these-9-rules/\n",
    "\n",
    "### Use a password manager to keep track of your passwords\n",
    "\n",
    "Strong passwords are longer than eight characters, are hard to guess and contain a variety of characters, numbers and special symbols. The best ones can be difficult to remember, especially if you're using a distinct login for every site (which is recommended). This is where password managers come in.\n",
    "\n",
    "A trusted password manager such as 1Password or Bitwarden can create and store strong, lengthy passwords for you. They work across your desktop and phone.\n",
    "ht-broida-passwords\n",
    "\n",
    "A good password manager can help you keep track of your login info.\n",
    "\n",
    "The tiny caveat is that you'll still have to memorize a single master password that unlocks all your other passwords. So make that one as strong as it can be (and see below for more specific tips on that).\n",
    "\n",
    "\n",
    "### Find out if your passwords have been stolen\n",
    "\n",
    "You can't always stop your passwords from leaking out, either through a data breach or a malicious hack. But you can check at any time for hints that your accounts might be compromised.\n",
    "\n",
    "Mozilla's Firefox Monitor and Google's Password Checkup can show you which of your email addresses and passwords have been compromised in a data breach so you can take action. Have I Been Pwned can also show you if your emails and passwords have been exposed. If you do discover you've been hacked, see our guide for how to protect yourself.\n",
    "\n",
    "\n",
    "### Don't recycle your passwords, seriously\n",
    "\n",
    "It's worth repeating that reusing passwords across different accounts is a terrible idea. If someone uncovers your reused password for one account, they have the key to every other account you use that password for. \n",
    "\n",
    "\n",
    "### Avoid using passwords known to be stolen\n",
    "\n",
    "Hackers can effortlessly use previously stolen or otherwise exposed passwords in automated login attempts called credential stuffing to break into an account. If you want to check if a password you're considering using has already been exposed in a hack, go to Have I Been Pwned and enter the password.\n",
    "\n",
    "### No need to periodically reset your password\n",
    "\n",
    "For years, changing your passwords every 60 or 90 days was a long-accepted practice, because the thinking went that was how long it took to crack a password. \n",
    "\n",
    "But Microsoft now recommends that unless you suspect your passwords have been exposed, you don't need to periodically change them. The reason? Many of us, by being forced to change our passwords every few months, would fall into bad habits of creating easy-to-remember passwords or writing them on sticky notes and putting them on our monitors.\n",
    "\n",
    "### Use two-factor authentication… but try to avoid text message codes\n",
    "\n",
    "If thieves do steal your password, you can still keep them from gaining access to your account with two-factor authentication (also called two-step verification or 2FA), a security safeguard that requires you enter a second piece of information that only you have  (usually a one-time code) before the app or service logs you in.\n",
    "\n"
   ]
  },
  {
   "cell_type": "markdown",
   "id": "ffd5f616",
   "metadata": {},
   "source": [
    "---"
   ]
  },
  {
   "cell_type": "markdown",
   "id": "448f4d08",
   "metadata": {},
   "source": [
    "# Turns Out Your Complex Passwords Aren't That Much Safer\n",
    "\n",
    "https://www.wired.com/2014/08/passwords-microsoft/\n",
    "\n",
    "What this shows that a complex password isn't necessarily a secure password. As we've written before, password systems have a very annoying way of putting most of the hard work onto the shoulders of the users. You've got to mix up a jumble of numbers and letters (some in capitals, please) and special characters. Some passwords time-out after 90 days, forcing you to reset them. But that doesn't mean they're that much safer than simple passwords.\n",
    "\n",
    "### Unsafe P@ssw0rds\n",
    "\n",
    "That's why Herley, along with researchers at Microsoft and Ottawa's Carleton University, set out to to take a cold hard look at passwords and here's what they found: the way we traditionally measure password strength is inconsistent---and often say nothing about how hard it might be to guess a password.\n",
    "\n",
    "Either way, pinning your security on an insanely complex password is a fool's wager. Just ask the people running the airline, travel and social networking sites that got hacked by Alex Holden's Russian hackers. \"Why are we burdening users with demands to chose stronger and stronger things with the goal of withstanding increasingly sophisticated guessing attacks when 1.2 billion credentials are just spewed from servers that are improperly protected,\" says Herley. \"That seems like a big waste of effort.\"\n"
   ]
  },
  {
   "cell_type": "markdown",
   "id": "6880d8c4",
   "metadata": {},
   "source": [
    "# Cryptography Crash Course for the Intimidated\n",
    "\n",
    "https://towardsdatascience.com/cryptography-crash-course-for-the-intimidated-892b7889528a\n",
    "\n",
    "There are different ways to encrypt (scramble) and decrypt (unscramble) information. They generally fall into two buckets:\n",
    "\n",
    "- Symmetric: encryption and decryption keys are the SAME, uses a private key\n",
    "- Asymmetric: encryption and decryption keys are DIFFERENT, uses a private key (metaphorical key) , and a public key (metaphorical lock), every public key only has one private key\n",
    "\n",
    "In order to do the actual encryption and decryption, the sender and receiver need keys. Keys are essentially sequences of characters that allow the user to randomly scramble a message, a file, a folder, data, a hard drive, etc. any information that you’re trying to protect and/or send. A matching key, whether identical (symmetric encryption/decryption) or not (asymmetric encryption/decryption), is needed to decrypt the information.\n",
    "\n",
    "The information you are trying to encrypt can be called plaintext. Once it has been encrypted with a key and encryption program, it can be called ciphertext, which is then what is stored and/or transported. It is when the data is at rest (stored) or in transit that it can be modified or stolen. When the ciphertext is then decrypted with a key and decryption program, you hope that it is the same plaintext that you sent.\n",
    "\n",
    "The last concept I will go over is a cryptographic hash function. Some may be familiar with the concept of a hash function. We can think of hash functions as any kind of function (think of machine, you put in x, and you get y). Hash functions specifically output a value of a previously specified length. For example, a popular cryptographic hash function is SHA256 — SHA stands for Secure Hashing Algorithm — which given an input, outputs a 256-bit hash value. The difference between a regular hash function and a cryptographic hash function is that that latter attempts to minimize collisions — when two inputs result in the same output. \n",
    "\n",
    "Real-Life Examples You Might Be Not Even Notice\n",
    "\n",
    "Now that we’ve gone over some basic cryptographic concepts, I want to run through a couple examples of encryption/decryption that we encounter every day.\n",
    "\n",
    "- HTTPS (Hyper-Text Transfer Protocol Secure) is how your local device securely communicates with a web browser or remote site. When you go to an HTTPS-secured server (a secure website that starts with https rather than http), the web browser checks a certificate that lets the browser know that the site is legitimate vs. is a dangerous site that is trying to pose as a different one. HTTPS-secured server prevents information from leaking during the connection. The connection is encrypted using TLS (Transport Layer Security), not to be confused with its outdated predecessor SSL (Secure Sockets Layer).\n",
    "- We’re pretty used to signing up for things, logging in, and needing to use a password. The idea that people are really bad at coming up with and remembering passwords has already been around for a while. As it turns out, encryption is a big part of what makes password systems work. In general, most systems will encrypt the password that you type in, and just keep the ciphertext. The next time you log in, it will encrypt whatever you’ve typed in, and then see if that matches with the ciphertext on file. If it doesn’t, you can’t log in. This is why most accounts and sites can only reset the password, but can’t send you your old password.\n",
    "\n"
   ]
  },
  {
   "cell_type": "markdown",
   "id": "16c16ce8",
   "metadata": {},
   "source": [
    "#  practical cryptography for developers \n",
    "\n",
    "https://cryptobook.nakov.com/"
   ]
  },
  {
   "cell_type": "code",
   "execution_count": null,
   "id": "ddf629e5",
   "metadata": {},
   "outputs": [],
   "source": []
  }
 ],
 "metadata": {
  "kernelspec": {
   "display_name": "Python 3 (ipykernel)",
   "language": "python",
   "name": "python3"
  },
  "language_info": {
   "codemirror_mode": {
    "name": "ipython",
    "version": 3
   },
   "file_extension": ".py",
   "mimetype": "text/x-python",
   "name": "python",
   "nbconvert_exporter": "python",
   "pygments_lexer": "ipython3",
   "version": "3.9.12"
  }
 },
 "nbformat": 4,
 "nbformat_minor": 5
}
