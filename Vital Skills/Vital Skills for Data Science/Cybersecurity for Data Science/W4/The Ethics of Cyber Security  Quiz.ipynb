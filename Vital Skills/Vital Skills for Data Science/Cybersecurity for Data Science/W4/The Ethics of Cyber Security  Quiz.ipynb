{
 "cells": [
  {
   "cell_type": "markdown",
   "id": "9007fcbd",
   "metadata": {},
   "source": [
    "1. What is facial recognition as it relates to cybersecurity(please select all that apply)?\n",
    "    - Security cameras capturing your face\n",
    "    - Mining photos on the internet"
   ]
  },
  {
   "cell_type": "markdown",
   "id": "ae07f70a",
   "metadata": {},
   "source": [
    "2. How does facial recognition fit into cybersecurity?\n",
    "    - A photo of your face is still data\n",
    "    - A photo of your face can impact privacy"
   ]
  },
  {
   "cell_type": "markdown",
   "id": "c6223e26",
   "metadata": {},
   "source": [
    "3. Can you foresee any ethical conflicts occuring with facial recognition?\n",
    "    - Facial recognition can be difficult to ethically navigate."
   ]
  },
  {
   "cell_type": "markdown",
   "id": "5b7367e1",
   "metadata": {},
   "source": [
    "4. What is the utility does LinkedIn have for professional use?\n",
    "    - Connecting with experts in your field\n",
    "    - Learning more about areas of interest\n",
    "    - Learning about new data science developments"
   ]
  },
  {
   "cell_type": "markdown",
   "id": "f51f441b",
   "metadata": {},
   "source": [
    "5. What is the utility of Twitter for professional use? \n",
    "    - Learning about experts’ findings"
   ]
  },
  {
   "cell_type": "markdown",
   "id": "1b61e182",
   "metadata": {},
   "source": [
    "6. Why is facial recognition more difficult to trace than other data?\n",
    "    - The data is collected from various different sources"
   ]
  },
  {
   "cell_type": "markdown",
   "id": "52fdf317",
   "metadata": {},
   "source": [
    "7. What animal was being studied in the Netflix show called “Connection?”"
   ]
  },
  {
   "cell_type": "markdown",
   "id": "e6c9dde0",
   "metadata": {},
   "source": [
    "8. Who do you think owns facial recognition data?\n",
    "    - Facial recognition is collected by a number of data sources and requires great care."
   ]
  },
  {
   "cell_type": "markdown",
   "id": "f89fe373",
   "metadata": {},
   "source": [
    "9. What are the two primary ways Kade Crockford says governments use this type of technology?\n",
    "    - facial recognition and face surveillance"
   ]
  },
  {
   "cell_type": "markdown",
   "id": "70f0a7ab",
   "metadata": {},
   "source": [
    "10. What is the difference between facial recognition and face surveillance?\n",
    "    - Facial recognition and facial surveillance are both types of technology, but facial recognition helps identify whereas facial surveillance tracks."
   ]
  },
  {
   "cell_type": "code",
   "execution_count": null,
   "id": "07c21bd1",
   "metadata": {},
   "outputs": [],
   "source": []
  }
 ],
 "metadata": {
  "kernelspec": {
   "display_name": "Python 3 (ipykernel)",
   "language": "python",
   "name": "python3"
  },
  "language_info": {
   "codemirror_mode": {
    "name": "ipython",
    "version": 3
   },
   "file_extension": ".py",
   "mimetype": "text/x-python",
   "name": "python",
   "nbconvert_exporter": "python",
   "pygments_lexer": "ipython3",
   "version": "3.9.12"
  }
 },
 "nbformat": 4,
 "nbformat_minor": 5
}
