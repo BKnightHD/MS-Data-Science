{
 "cells": [
  {
   "cell_type": "markdown",
   "id": "0b88ddee",
   "metadata": {},
   "source": [
    "1. What does IoT stand for?\n",
    "\n",
    "- internet of things"
   ]
  },
  {
   "cell_type": "markdown",
   "id": "c13f75ff",
   "metadata": {},
   "source": [
    "2. What is the IoT?\n",
    "\n",
    "    - The Internet of Things encompass several things in the technology space."
   ]
  },
  {
   "cell_type": "markdown",
   "id": "9bc580b0",
   "metadata": {},
   "source": [
    "3. What is an example of social engineering?"
   ]
  },
  {
   "cell_type": "markdown",
   "id": "eb922c6b",
   "metadata": {},
   "source": [
    "4. How does social engineering fit into cyber security?\n",
    "\n",
    "    - Social engineering is a tactic hackers use."
   ]
  },
  {
   "cell_type": "markdown",
   "id": "c3fefff1",
   "metadata": {},
   "source": [
    "5. True or false, all hacking is bad.\n",
    "\n",
    "    - False?"
   ]
  },
  {
   "cell_type": "markdown",
   "id": "1ab32fb3",
   "metadata": {},
   "source": [
    "6. What is a white hat hacker?\n",
    "\n",
    "    - A hacker that helps an organization learn what its vulnerabilities are, with the knowledge of the organization."
   ]
  },
  {
   "cell_type": "markdown",
   "id": "b1a697a3",
   "metadata": {},
   "source": [
    "7. What is a black hat hacker?\n",
    "\n",
    "    - Hackers who are doing damage and hacking unethically"
   ]
  },
  {
   "cell_type": "markdown",
   "id": "1b8bf848",
   "metadata": {},
   "source": [
    "8. What is a grey hat hacker?\n",
    "\n",
    "    - They are between ethical and unethical hacking"
   ]
  },
  {
   "cell_type": "markdown",
   "id": "8f450fa8",
   "metadata": {},
   "source": [
    "9. What is the benefit of something getting hacked?\n",
    "\n",
    "    - Organizations learn where their vulnerabilities are"
   ]
  },
  {
   "cell_type": "markdown",
   "id": "a8f11b66",
   "metadata": {},
   "source": [
    "10. How does social engineering connect to hackers?\n",
    "\n",
    "    - Hackers use social engineering to steal people’s data\n",
    "    - Hackers use social engineering to break into organizations’ data\n",
    "    - Social engineering is a key tool for hackers to use"
   ]
  }
 ],
 "metadata": {
  "kernelspec": {
   "display_name": "Python 3 (ipykernel)",
   "language": "python",
   "name": "python3"
  },
  "language_info": {
   "codemirror_mode": {
    "name": "ipython",
    "version": 3
   },
   "file_extension": ".py",
   "mimetype": "text/x-python",
   "name": "python",
   "nbconvert_exporter": "python",
   "pygments_lexer": "ipython3",
   "version": "3.9.12"
  }
 },
 "nbformat": 4,
 "nbformat_minor": 5
}
