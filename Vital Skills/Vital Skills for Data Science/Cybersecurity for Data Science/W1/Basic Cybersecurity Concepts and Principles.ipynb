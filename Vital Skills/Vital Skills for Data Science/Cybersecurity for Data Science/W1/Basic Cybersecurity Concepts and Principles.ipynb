{
 "cells": [
  {
   "cell_type": "markdown",
   "id": "1b120922",
   "metadata": {},
   "source": [
    "1. What are the basic principles of the CIA? Please select all that apply."
   ]
  },
  {
   "cell_type": "markdown",
   "id": "888d09ce",
   "metadata": {},
   "source": [
    "- Confidentiality\n",
    "- Availability\n",
    "- Integrity"
   ]
  },
  {
   "cell_type": "markdown",
   "id": "52548cf9",
   "metadata": {},
   "source": [
    "2. What does CIA stand for in terms of cybersecurity? "
   ]
  },
  {
   "cell_type": "markdown",
   "id": "0c2e51c1",
   "metadata": {},
   "source": [
    "- Confidentiality, Integrity and Availability\n"
   ]
  },
  {
   "cell_type": "markdown",
   "id": "c83b265b",
   "metadata": {},
   "source": [
    "3. What does integrity mean?"
   ]
  },
  {
   "cell_type": "markdown",
   "id": "6a7d279a",
   "metadata": {},
   "source": [
    "- How data is maintained"
   ]
  },
  {
   "cell_type": "markdown",
   "id": "558fbfe2",
   "metadata": {},
   "source": [
    "4. What does confidentiality deal with?"
   ]
  },
  {
   "cell_type": "markdown",
   "id": "7ec73464",
   "metadata": {},
   "source": [
    "- Only specific people have access to and modify data"
   ]
  },
  {
   "cell_type": "markdown",
   "id": "93563bed",
   "metadata": {},
   "source": [
    "5. What is the closest meaning to availability in the CIA triad?"
   ]
  },
  {
   "cell_type": "markdown",
   "id": "31042914",
   "metadata": {},
   "source": [
    "- Access to the data by authorized users"
   ]
  },
  {
   "cell_type": "markdown",
   "id": "847983cb",
   "metadata": {},
   "source": [
    "6. What shape is the CIA triad visual?"
   ]
  },
  {
   "cell_type": "markdown",
   "id": "fe8132e2",
   "metadata": {},
   "source": [
    "-  Triangle"
   ]
  },
  {
   "cell_type": "markdown",
   "id": "1a568c79",
   "metadata": {},
   "source": [
    "7. Why is the CIA triad important?"
   ]
  },
  {
   "cell_type": "markdown",
   "id": "5bdc444b",
   "metadata": {},
   "source": [
    "- It is the foundation of understanding cybersecurity"
   ]
  },
  {
   "cell_type": "markdown",
   "id": "a13ebc24",
   "metadata": {},
   "source": [
    "8. Who should data be available to?"
   ]
  },
  {
   "cell_type": "markdown",
   "id": "798a0ed1",
   "metadata": {},
   "source": [
    "9. Who created the CIA triad?"
   ]
  },
  {
   "cell_type": "markdown",
   "id": "e7789ac7",
   "metadata": {},
   "source": [
    "- The CIA triad does not have a single creator"
   ]
  },
  {
   "cell_type": "markdown",
   "id": "daa1a0c4",
   "metadata": {},
   "source": [
    "10. Can you think of an example of confidentiality?"
   ]
  }
 ],
 "metadata": {
  "kernelspec": {
   "display_name": "Python 3 (ipykernel)",
   "language": "python",
   "name": "python3"
  },
  "language_info": {
   "codemirror_mode": {
    "name": "ipython",
    "version": 3
   },
   "file_extension": ".py",
   "mimetype": "text/x-python",
   "name": "python",
   "nbconvert_exporter": "python",
   "pygments_lexer": "ipython3",
   "version": "3.9.12"
  }
 },
 "nbformat": 4,
 "nbformat_minor": 5
}
